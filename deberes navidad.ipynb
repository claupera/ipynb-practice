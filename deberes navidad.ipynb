{
  "nbformat": 4,
  "nbformat_minor": 0,
  "metadata": {
    "colab": {
      "provenance": [],
      "authorship_tag": "ABX9TyPb7CUvv2JkLLcAIWP66jeK",
      "include_colab_link": true
    },
    "kernelspec": {
      "name": "python3",
      "display_name": "Python 3"
    },
    "language_info": {
      "name": "python"
    }
  },
  "cells": [
    {
      "cell_type": "markdown",
      "metadata": {
        "id": "view-in-github",
        "colab_type": "text"
      },
      "source": [
        "<a href=\"https://colab.research.google.com/github/claupera/ipynb-practice/blob/main/deberes%20navidad.ipynb\" target=\"_parent\"><img src=\"https://colab.research.google.com/assets/colab-badge.svg\" alt=\"Open In Colab\"/></a>"
      ]
    },
    {
      "cell_type": "code",
      "execution_count": null,
      "metadata": {
        "id": "SaxQSg7pZuKP"
      },
      "outputs": [],
      "source": [
        "dict_person= {\"name\":\"Clau\",\"age\":32,\"city\":\"Zurich\"}"
      ]
    },
    {
      "cell_type": "code",
      "source": [
        "print(dict_person)"
      ],
      "metadata": {
        "colab": {
          "base_uri": "https://localhost:8080/"
        },
        "id": "HsXIXStYb4NP",
        "outputId": "e44dcdf1-0186-4737-9ed7-add7d1e2a68a"
      },
      "execution_count": null,
      "outputs": [
        {
          "output_type": "stream",
          "name": "stdout",
          "text": [
            "{'name': 'Clau', 'age': 32, 'city': 'Zurich'}\n"
          ]
        }
      ]
    },
    {
      "cell_type": "code",
      "source": [
        "print(dict_person.keys())"
      ],
      "metadata": {
        "colab": {
          "base_uri": "https://localhost:8080/"
        },
        "id": "GRLcbeiZb_T8",
        "outputId": "5af2b1db-1ad5-49bd-96ac-6ac4a0019ee6"
      },
      "execution_count": null,
      "outputs": [
        {
          "output_type": "stream",
          "name": "stdout",
          "text": [
            "dict_keys(['name', 'age', 'city'])\n"
          ]
        }
      ]
    },
    {
      "cell_type": "code",
      "source": [
        "print(dict_person.values())"
      ],
      "metadata": {
        "colab": {
          "base_uri": "https://localhost:8080/"
        },
        "id": "1uV_ThwCcNRT",
        "outputId": "7eca5c8a-738d-415f-ecd9-43c8f47623d6"
      },
      "execution_count": null,
      "outputs": [
        {
          "output_type": "stream",
          "name": "stdout",
          "text": [
            "dict_values(['Clau', 32, 'Zurich'])\n"
          ]
        }
      ]
    },
    {
      "cell_type": "code",
      "source": [
        "print(dict_person.items())"
      ],
      "metadata": {
        "colab": {
          "base_uri": "https://localhost:8080/"
        },
        "id": "ugwmeNUYcoEa",
        "outputId": "a7088de0-ed11-4db4-a33c-115b0d85c572"
      },
      "execution_count": null,
      "outputs": [
        {
          "output_type": "stream",
          "name": "stdout",
          "text": [
            "dict_items([('name', 'Clau'), ('age', 32), ('city', 'Zurich')])\n"
          ]
        }
      ]
    },
    {
      "cell_type": "code",
      "source": [
        "dict_person [\"job\"] = \"marketing\""
      ],
      "metadata": {
        "id": "dQwDoiXscvjw"
      },
      "execution_count": null,
      "outputs": []
    },
    {
      "cell_type": "code",
      "source": [
        "print(dict_person.values())"
      ],
      "metadata": {
        "colab": {
          "base_uri": "https://localhost:8080/"
        },
        "id": "x2kZmTcAeX1w",
        "outputId": "bccc3921-6647-4735-c314-091388a9a70a"
      },
      "execution_count": null,
      "outputs": [
        {
          "output_type": "stream",
          "name": "stdout",
          "text": [
            "dict_values(['Clau', 32, 'Zurich', 'marketing'])\n"
          ]
        }
      ]
    },
    {
      "cell_type": "code",
      "source": [
        "if \"age\" in dict_person:\n",
        "  print(\"yes\")\n",
        "else:\n",
        "  print (\"no\")"
      ],
      "metadata": {
        "colab": {
          "base_uri": "https://localhost:8080/"
        },
        "id": "LGnsNf4UeiRg",
        "outputId": "d13a0f14-c49d-481b-d204-4d1053f5287f"
      },
      "execution_count": null,
      "outputs": [
        {
          "output_type": "stream",
          "name": "stdout",
          "text": [
            "yes\n"
          ]
        }
      ]
    },
    {
      "cell_type": "code",
      "source": [
        "for key, value in dict_person:\n",
        "  print(dict_person.value)"
      ],
      "metadata": {
        "id": "Y6i6yr1CesKi"
      },
      "execution_count": null,
      "outputs": []
    }
  ]
}
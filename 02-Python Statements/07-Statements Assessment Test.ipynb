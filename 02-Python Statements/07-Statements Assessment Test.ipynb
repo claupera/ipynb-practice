{
  "cells": [
    {
      "cell_type": "markdown",
      "metadata": {
        "id": "uspqWekZ0QJr"
      },
      "source": [
        "___\n",
        "\n",
        "<a href='https://www.udemy.com/user/joseportilla/'><img src='https://github.com/Pierian-Data/Complete-Python-3-Bootcamp/blob/master/Pierian_Data_Logo.png?raw=1'/></a>\n",
        "___\n",
        "<center><em>Content Copyright by Pierian Data</em></center>"
      ]
    },
    {
      "cell_type": "markdown",
      "metadata": {
        "collapsed": true,
        "id": "9FJE9CHO0QJu"
      },
      "source": [
        "# Statements Assessment Test\n",
        "Let's test your knowledge!"
      ]
    },
    {
      "cell_type": "markdown",
      "metadata": {
        "id": "-m04pku00QJu"
      },
      "source": [
        "_____\n",
        "**Use <code>for</code>, .split(), and <code>if</code> to create a Statement that will print out words that start with 's':**"
      ]
    },
    {
      "cell_type": "code",
      "execution_count": 23,
      "metadata": {
        "collapsed": true,
        "id": "4U4_s73T0QJv"
      },
      "outputs": [],
      "source": [
        "stri = 'Print only the words that start with s in this sentence'"
      ]
    },
    {
      "cell_type": "code",
      "execution_count": 24,
      "metadata": {
        "collapsed": true,
        "colab": {
          "base_uri": "https://localhost:8080/"
        },
        "id": "TAk50HXX0QJw",
        "outputId": "af39a7cc-36c7-4b29-e5fe-4d2275e2ca09"
      },
      "outputs": [
        {
          "output_type": "stream",
          "name": "stdout",
          "text": [
            "start\n",
            "s\n",
            "sentence\n"
          ]
        }
      ],
      "source": [
        "stri = stri.split(\" \")\n",
        "for word in stri:\n",
        "  if word [0]== \"s\":\n",
        "    print (word)"
      ]
    },
    {
      "cell_type": "markdown",
      "metadata": {
        "id": "4GoPNPK40QJx"
      },
      "source": [
        "______\n",
        "**Use range() to print all the even numbers from 0 to 10.**"
      ]
    },
    {
      "cell_type": "code",
      "execution_count": 1,
      "metadata": {
        "collapsed": true,
        "colab": {
          "base_uri": "https://localhost:8080/"
        },
        "id": "Va60SZwu0QJx",
        "outputId": "13fa51a2-4064-45bc-ea1b-c1dd70ab7eba"
      },
      "outputs": [
        {
          "output_type": "execute_result",
          "data": {
            "text/plain": [
              "[0, 1, 2, 3, 4, 5, 6, 7, 8, 9, 10]"
            ]
          },
          "metadata": {},
          "execution_count": 1
        }
      ],
      "source": [
        "list (range (0,11))\n",
        "mylist = list(range (0,11))\n",
        "mylist"
      ]
    },
    {
      "cell_type": "code",
      "source": [
        "mylist = list(range(0,11))\n",
        "for num in mylist:\n",
        "  if num%2==0:\n",
        "    print(num)"
      ],
      "metadata": {
        "id": "skuRyeHdvgzv",
        "outputId": "8fe52d9c-2fc5-4fa4-b97a-66d347d94648",
        "colab": {
          "base_uri": "https://localhost:8080/"
        }
      },
      "execution_count": 3,
      "outputs": [
        {
          "output_type": "stream",
          "name": "stdout",
          "text": [
            "0\n",
            "2\n",
            "4\n",
            "6\n",
            "8\n",
            "10\n"
          ]
        }
      ]
    },
    {
      "cell_type": "code",
      "source": [
        "mynewlist = [num for num in mylist if num%2==0]\n",
        "mynewlist"
      ],
      "metadata": {
        "id": "ovGFcJScvxmm",
        "outputId": "8163bff6-2b46-4503-a425-e055fb7f7427",
        "colab": {
          "base_uri": "https://localhost:8080/"
        }
      },
      "execution_count": 6,
      "outputs": [
        {
          "output_type": "execute_result",
          "data": {
            "text/plain": [
              "[0, 2, 4, 6, 8, 10]"
            ]
          },
          "metadata": {},
          "execution_count": 6
        }
      ]
    },
    {
      "cell_type": "code",
      "source": [
        "mylist2 = [x for x in range(0,11)]\n",
        "mylist2"
      ],
      "metadata": {
        "id": "N8Q0gfLUwXoy",
        "outputId": "6dcb1d01-bb8c-477b-f19e-6b4f89d6a3f1",
        "colab": {
          "base_uri": "https://localhost:8080/"
        }
      },
      "execution_count": 8,
      "outputs": [
        {
          "output_type": "execute_result",
          "data": {
            "text/plain": [
              "[0, 1, 2, 3, 4, 5, 6, 7, 8, 9, 10]"
            ]
          },
          "metadata": {},
          "execution_count": 8
        }
      ]
    },
    {
      "cell_type": "code",
      "source": [
        "print(mylist [0:11:2])"
      ],
      "metadata": {
        "id": "4b0PQ0Miwt3F",
        "outputId": "2be68dbb-2b2e-4e67-a80f-2a3aad956f34",
        "colab": {
          "base_uri": "https://localhost:8080/"
        }
      },
      "execution_count": 10,
      "outputs": [
        {
          "output_type": "stream",
          "name": "stdout",
          "text": [
            "[0, 2, 4, 6, 8, 10]\n"
          ]
        }
      ]
    },
    {
      "cell_type": "markdown",
      "metadata": {
        "id": "A4k_Z7o10QJx"
      },
      "source": [
        "___\n",
        "**Use a List Comprehension to create a list of all numbers between 1 and 50 that are divisible by 3.**"
      ]
    },
    {
      "cell_type": "code",
      "execution_count": 37,
      "metadata": {
        "collapsed": true,
        "colab": {
          "base_uri": "https://localhost:8080/"
        },
        "id": "-dMdKqcd0QJy",
        "outputId": "e9a8174a-d1b8-44e4-bbc7-02082628ea3a"
      },
      "outputs": [
        {
          "output_type": "stream",
          "name": "stdout",
          "text": [
            "3\n",
            "6\n",
            "9\n",
            "12\n",
            "15\n",
            "18\n",
            "21\n",
            "24\n",
            "27\n",
            "30\n",
            "33\n",
            "36\n",
            "39\n",
            "42\n",
            "45\n",
            "48\n"
          ]
        }
      ],
      "source": [
        "#Code in this cell\n",
        "[]\n",
        "mylist = list (range (1,51))\n",
        "for num in mylist:\n",
        "  if num%3==0:\n",
        "    print (num)\n",
        "# how to convert this into a list?"
      ]
    },
    {
      "cell_type": "code",
      "source": [
        "mylist = [x for x in range(1,51) if x%3==0]\n",
        "mylist"
      ],
      "metadata": {
        "id": "KKLFiT-FxQVP",
        "outputId": "4b1b20f2-a90a-494a-f7c3-1f4ed85c9ea0",
        "colab": {
          "base_uri": "https://localhost:8080/"
        }
      },
      "execution_count": 13,
      "outputs": [
        {
          "output_type": "execute_result",
          "data": {
            "text/plain": [
              "[3, 6, 9, 12, 15, 18, 21, 24, 27, 30, 33, 36, 39, 42, 45, 48]"
            ]
          },
          "metadata": {},
          "execution_count": 13
        }
      ]
    },
    {
      "cell_type": "markdown",
      "metadata": {
        "id": "yYtkxNi40QJz"
      },
      "source": [
        "_____\n",
        "**Go through the string below and if the length of a word is even print \"even!\"**"
      ]
    },
    {
      "cell_type": "code",
      "execution_count": 55,
      "metadata": {
        "collapsed": true,
        "id": "sTCC-xYn0QJz"
      },
      "outputs": [],
      "source": [
        "fra = 'Print every word in this sentence that has an even number of letters'"
      ]
    },
    {
      "cell_type": "code",
      "execution_count": 56,
      "metadata": {
        "collapsed": true,
        "id": "4nhUZovN0QJz"
      },
      "outputs": [],
      "source": [
        "fra = fra.split()\n"
      ]
    },
    {
      "cell_type": "code",
      "source": [
        "for word in fra:\n",
        "  if len(word)%2==0:\n",
        "    print(word,\",\", len(word),\",\",\"even!\")\n",
        "  else:\n",
        "    print (word,\",\", len(word),\",\",\"odd!\")"
      ],
      "metadata": {
        "id": "dbQdrxK76LNN",
        "outputId": "38e0e733-9f52-460d-d207-29e7dc5d3784",
        "colab": {
          "base_uri": "https://localhost:8080/"
        }
      },
      "execution_count": 62,
      "outputs": [
        {
          "output_type": "stream",
          "name": "stdout",
          "text": [
            "Print , 5 , odd!\n",
            "every , 5 , odd!\n",
            "word , 4 , even!\n",
            "in , 2 , even!\n",
            "this , 4 , even!\n",
            "sentence , 8 , even!\n",
            "that , 4 , even!\n",
            "has , 3 , odd!\n",
            "an , 2 , even!\n",
            "even , 4 , even!\n",
            "number , 6 , even!\n",
            "of , 2 , even!\n",
            "letters , 7 , odd!\n"
          ]
        }
      ]
    },
    {
      "cell_type": "markdown",
      "metadata": {
        "id": "ZCTzR1p80QJ0"
      },
      "source": [
        "____\n",
        "**Write a program that prints the integers from 1 to 100. But for multiples of three print \"Fizz\" instead of the number, and for the multiples of five print \"Buzz\". For numbers which are multiples of both three and five print \"FizzBuzz\".**"
      ]
    },
    {
      "cell_type": "code",
      "execution_count": 63,
      "metadata": {
        "collapsed": true,
        "id": "wig76usB0QJ0"
      },
      "outputs": [],
      "source": [
        "mylist = list (range(1,101))\n"
      ]
    },
    {
      "cell_type": "code",
      "source": [
        "for num in mylist:\n",
        "  if num%3==0:\n",
        "    print(\"Fizz\")\n",
        "  if num%5==0:\n",
        "    print(\"Buzz\")\n",
        "  if num%3 ==0 and num%5== 0:\n",
        "    print(\"FizzBuzz\")\n",
        "  else:\n",
        "    print(num)"
      ],
      "metadata": {
        "id": "LetIXcyl69OT",
        "outputId": "eac1456b-c940-4048-ed21-9414e2bb069d",
        "colab": {
          "base_uri": "https://localhost:8080/"
        }
      },
      "execution_count": 66,
      "outputs": [
        {
          "output_type": "stream",
          "name": "stdout",
          "text": [
            "1\n",
            "2\n",
            "Fizz\n",
            "3\n",
            "4\n",
            "Buzz\n",
            "5\n",
            "Fizz\n",
            "6\n",
            "7\n",
            "8\n",
            "Fizz\n",
            "9\n",
            "Buzz\n",
            "10\n",
            "11\n",
            "Fizz\n",
            "12\n",
            "13\n",
            "14\n",
            "Fizz\n",
            "Buzz\n",
            "FizzBuzz\n",
            "16\n",
            "17\n",
            "Fizz\n",
            "18\n",
            "19\n",
            "Buzz\n",
            "20\n",
            "Fizz\n",
            "21\n",
            "22\n",
            "23\n",
            "Fizz\n",
            "24\n",
            "Buzz\n",
            "25\n",
            "26\n",
            "Fizz\n",
            "27\n",
            "28\n",
            "29\n",
            "Fizz\n",
            "Buzz\n",
            "FizzBuzz\n",
            "31\n",
            "32\n",
            "Fizz\n",
            "33\n",
            "34\n",
            "Buzz\n",
            "35\n",
            "Fizz\n",
            "36\n",
            "37\n",
            "38\n",
            "Fizz\n",
            "39\n",
            "Buzz\n",
            "40\n",
            "41\n",
            "Fizz\n",
            "42\n",
            "43\n",
            "44\n",
            "Fizz\n",
            "Buzz\n",
            "FizzBuzz\n",
            "46\n",
            "47\n",
            "Fizz\n",
            "48\n",
            "49\n",
            "Buzz\n",
            "50\n",
            "Fizz\n",
            "51\n",
            "52\n",
            "53\n",
            "Fizz\n",
            "54\n",
            "Buzz\n",
            "55\n",
            "56\n",
            "Fizz\n",
            "57\n",
            "58\n",
            "59\n",
            "Fizz\n",
            "Buzz\n",
            "FizzBuzz\n",
            "61\n",
            "62\n",
            "Fizz\n",
            "63\n",
            "64\n",
            "Buzz\n",
            "65\n",
            "Fizz\n",
            "66\n",
            "67\n",
            "68\n",
            "Fizz\n",
            "69\n",
            "Buzz\n",
            "70\n",
            "71\n",
            "Fizz\n",
            "72\n",
            "73\n",
            "74\n",
            "Fizz\n",
            "Buzz\n",
            "FizzBuzz\n",
            "76\n",
            "77\n",
            "Fizz\n",
            "78\n",
            "79\n",
            "Buzz\n",
            "80\n",
            "Fizz\n",
            "81\n",
            "82\n",
            "83\n",
            "Fizz\n",
            "84\n",
            "Buzz\n",
            "85\n",
            "86\n",
            "Fizz\n",
            "87\n",
            "88\n",
            "89\n",
            "Fizz\n",
            "Buzz\n",
            "FizzBuzz\n",
            "91\n",
            "92\n",
            "Fizz\n",
            "93\n",
            "94\n",
            "Buzz\n",
            "95\n",
            "Fizz\n",
            "96\n",
            "97\n",
            "98\n",
            "Fizz\n",
            "99\n",
            "Buzz\n",
            "100\n"
          ]
        }
      ]
    },
    {
      "cell_type": "code",
      "source": [
        "mylist2= list(range(1,6))"
      ],
      "metadata": {
        "id": "Dj_zj4y_7rOl"
      },
      "execution_count": 80,
      "outputs": []
    },
    {
      "cell_type": "code",
      "source": [
        "mylist2"
      ],
      "metadata": {
        "id": "pkJj1-OO9KGX",
        "outputId": "76ab0646-b431-4447-9922-ce69dc1fe520",
        "colab": {
          "base_uri": "https://localhost:8080/"
        }
      },
      "execution_count": 81,
      "outputs": [
        {
          "output_type": "execute_result",
          "data": {
            "text/plain": [
              "[1, 2, 3, 4, 5]"
            ]
          },
          "metadata": {},
          "execution_count": 81
        }
      ]
    },
    {
      "cell_type": "code",
      "source": [
        "for num in mylist2:\n",
        "  print(num)"
      ],
      "metadata": {
        "colab": {
          "base_uri": "https://localhost:8080/"
        },
        "id": "RwV6vbMF9UVX",
        "outputId": "9e94d5f5-1f92-416d-b444-228b40ba83f7"
      },
      "execution_count": 82,
      "outputs": [
        {
          "output_type": "stream",
          "name": "stdout",
          "text": [
            "1\n",
            "2\n",
            "3\n",
            "4\n",
            "5\n"
          ]
        }
      ]
    },
    {
      "cell_type": "code",
      "source": [
        "for num in mylist2:\n",
        "  if num%3 ==0:\n",
        "    print(\"by three\")\n",
        "  if num%2==0:\n",
        "    print(\"by two\")\n",
        "  else:\n",
        "    print (num)"
      ],
      "metadata": {
        "id": "vtEBYt309aig",
        "outputId": "37421f5b-8d02-4941-811f-1beea3a7a87c",
        "colab": {
          "base_uri": "https://localhost:8080/"
        }
      },
      "execution_count": 83,
      "outputs": [
        {
          "output_type": "stream",
          "name": "stdout",
          "text": [
            "1\n",
            "by two\n",
            "by three\n",
            "3\n",
            "by two\n",
            "5\n"
          ]
        }
      ]
    },
    {
      "cell_type": "code",
      "source": [
        "for num in mylist:\n",
        "  if num%3 ==0 and num%5== 0:\n",
        "    print(\"FizzBuzz\")\n",
        "  elif num%3==0:\n",
        "    print(\"Fizz\")\n",
        "  elif num%5==0:\n",
        "    print(\"Buzz\")\n",
        "  else:\n",
        "    print(num)\n",
        "\n",
        "#de esto saco que es super importante en este caso poner la comparacion mas rara primero\n",
        "#y que la diference etnre poner muchos \"if\" o 1 \"if\" y muchos \"elif\" es que los \"elif\" solo se activan si no se cumple lo anterior\n",
        "#lo que pasaba antes es que me estaba vovliendo a empezar el code? entender esto bien"
      ],
      "metadata": {
        "id": "yZ4f5-60-8s1",
        "outputId": "e4393da6-62c9-4074-ec1d-8ca42b977054",
        "colab": {
          "base_uri": "https://localhost:8080/"
        }
      },
      "execution_count": 84,
      "outputs": [
        {
          "output_type": "stream",
          "name": "stdout",
          "text": [
            "1\n",
            "2\n",
            "Fizz\n",
            "4\n",
            "Buzz\n",
            "Fizz\n",
            "7\n",
            "8\n",
            "Fizz\n",
            "Buzz\n",
            "11\n",
            "Fizz\n",
            "13\n",
            "14\n",
            "FizzBuzz\n",
            "16\n",
            "17\n",
            "Fizz\n",
            "19\n",
            "Buzz\n",
            "Fizz\n",
            "22\n",
            "23\n",
            "Fizz\n",
            "Buzz\n",
            "26\n",
            "Fizz\n",
            "28\n",
            "29\n",
            "FizzBuzz\n",
            "31\n",
            "32\n",
            "Fizz\n",
            "34\n",
            "Buzz\n",
            "Fizz\n",
            "37\n",
            "38\n",
            "Fizz\n",
            "Buzz\n",
            "41\n",
            "Fizz\n",
            "43\n",
            "44\n",
            "FizzBuzz\n",
            "46\n",
            "47\n",
            "Fizz\n",
            "49\n",
            "Buzz\n",
            "Fizz\n",
            "52\n",
            "53\n",
            "Fizz\n",
            "Buzz\n",
            "56\n",
            "Fizz\n",
            "58\n",
            "59\n",
            "FizzBuzz\n",
            "61\n",
            "62\n",
            "Fizz\n",
            "64\n",
            "Buzz\n",
            "Fizz\n",
            "67\n",
            "68\n",
            "Fizz\n",
            "Buzz\n",
            "71\n",
            "Fizz\n",
            "73\n",
            "74\n",
            "FizzBuzz\n",
            "76\n",
            "77\n",
            "Fizz\n",
            "79\n",
            "Buzz\n",
            "Fizz\n",
            "82\n",
            "83\n",
            "Fizz\n",
            "Buzz\n",
            "86\n",
            "Fizz\n",
            "88\n",
            "89\n",
            "FizzBuzz\n",
            "91\n",
            "92\n",
            "Fizz\n",
            "94\n",
            "Buzz\n",
            "Fizz\n",
            "97\n",
            "98\n",
            "Fizz\n",
            "Buzz\n"
          ]
        }
      ]
    },
    {
      "cell_type": "markdown",
      "metadata": {
        "id": "MiHt3wZV0QJ0"
      },
      "source": [
        "____\n",
        "**Use List Comprehension to create a list of the first letters of every word in the string below:**"
      ]
    },
    {
      "cell_type": "code",
      "execution_count": null,
      "metadata": {
        "collapsed": true,
        "id": "yiUY8iMM0QJ0"
      },
      "outputs": [],
      "source": [
        "st = 'Create a list of the first letters of every word in this string'"
      ]
    },
    {
      "cell_type": "code",
      "execution_count": 85,
      "metadata": {
        "collapsed": true,
        "id": "d-3RX8th0QJ1"
      },
      "outputs": [],
      "source": [
        "st = st.split()"
      ]
    },
    {
      "cell_type": "code",
      "source": [
        "mylist = []"
      ],
      "metadata": {
        "id": "getHRX3x_1Sp",
        "outputId": "2ebdd4ae-2d96-4d36-bbec-8058b6e0f26f",
        "colab": {
          "base_uri": "https://localhost:8080/",
          "height": 106
        }
      },
      "execution_count": 89,
      "outputs": [
        {
          "output_type": "error",
          "ename": "SyntaxError",
          "evalue": "invalid syntax (<ipython-input-89-932e1b41293c>, line 1)",
          "traceback": [
            "\u001b[0;36m  File \u001b[0;32m\"<ipython-input-89-932e1b41293c>\"\u001b[0;36m, line \u001b[0;32m1\u001b[0m\n\u001b[0;31m    mylist = [for word in word print(word[0])]\u001b[0m\n\u001b[0m              ^\u001b[0m\n\u001b[0;31mSyntaxError\u001b[0m\u001b[0;31m:\u001b[0m invalid syntax\n"
          ]
        }
      ]
    },
    {
      "cell_type": "code",
      "source": [
        "st"
      ],
      "metadata": {
        "id": "rzj5C-g6_lWY",
        "outputId": "0fc97c8b-fac5-4c96-cbb6-c6f7cae75d55",
        "colab": {
          "base_uri": "https://localhost:8080/"
        }
      },
      "execution_count": 86,
      "outputs": [
        {
          "output_type": "execute_result",
          "data": {
            "text/plain": [
              "['Print',\n",
              " 'every',\n",
              " 'word',\n",
              " 'in',\n",
              " 'this',\n",
              " 'sentence',\n",
              " 'that',\n",
              " 'has',\n",
              " 'an',\n",
              " 'even',\n",
              " 'number',\n",
              " 'of',\n",
              " 'letters']"
            ]
          },
          "metadata": {},
          "execution_count": 86
        }
      ]
    },
    {
      "cell_type": "code",
      "source": [
        "for word in st:\n",
        "  print(word[0])"
      ],
      "metadata": {
        "id": "CSMUuTSY_rED",
        "outputId": "bd9e37e7-67cb-40ab-82d2-498b8d5435e4",
        "colab": {
          "base_uri": "https://localhost:8080/"
        }
      },
      "execution_count": 87,
      "outputs": [
        {
          "output_type": "stream",
          "name": "stdout",
          "text": [
            "P\n",
            "e\n",
            "w\n",
            "i\n",
            "t\n",
            "s\n",
            "t\n",
            "h\n",
            "a\n",
            "e\n",
            "n\n",
            "o\n",
            "l\n"
          ]
        }
      ]
    },
    {
      "cell_type": "code",
      "source": [
        "inputtext = 'Create a list of the first letters of every word in this string'\n",
        "# Use List Comprehension to create a list of the first letters of every word in the string below"
      ],
      "metadata": {
        "id": "zyUn0ZamzFof"
      },
      "execution_count": 14,
      "outputs": []
    },
    {
      "cell_type": "code",
      "source": [
        "words= inputtext.split()\n",
        "words"
      ],
      "metadata": {
        "id": "aufNlSr-zRQM",
        "outputId": "1f8ff84d-b60d-46ac-ea11-da7fbf25c208",
        "colab": {
          "base_uri": "https://localhost:8080/"
        }
      },
      "execution_count": 15,
      "outputs": [
        {
          "output_type": "execute_result",
          "data": {
            "text/plain": [
              "['Create',\n",
              " 'a',\n",
              " 'list',\n",
              " 'of',\n",
              " 'the',\n",
              " 'first',\n",
              " 'letters',\n",
              " 'of',\n",
              " 'every',\n",
              " 'word',\n",
              " 'in',\n",
              " 'this',\n",
              " 'string']"
            ]
          },
          "metadata": {},
          "execution_count": 15
        }
      ]
    },
    {
      "cell_type": "code",
      "source": [
        "mylist=[word[0] for word in words]\n",
        "mylist"
      ],
      "metadata": {
        "id": "iFXQXW_PzatY",
        "outputId": "a027f8da-8005-413a-87b1-54d88b1bd0df",
        "colab": {
          "base_uri": "https://localhost:8080/"
        }
      },
      "execution_count": 17,
      "outputs": [
        {
          "output_type": "execute_result",
          "data": {
            "text/plain": [
              "['C', 'a', 'l', 'o', 't', 'f', 'l', 'o', 'e', 'w', 'i', 't', 's']"
            ]
          },
          "metadata": {},
          "execution_count": 17
        }
      ]
    },
    {
      "cell_type": "markdown",
      "metadata": {
        "id": "GaIHAE140QJ1"
      },
      "source": [
        "### Great Job!"
      ]
    }
  ],
  "metadata": {
    "kernelspec": {
      "display_name": "Python 3",
      "language": "python",
      "name": "python3"
    },
    "language_info": {
      "codemirror_mode": {
        "name": "ipython",
        "version": 3
      },
      "file_extension": ".py",
      "mimetype": "text/x-python",
      "name": "python",
      "nbconvert_exporter": "python",
      "pygments_lexer": "ipython3",
      "version": "3.6.6"
    },
    "colab": {
      "provenance": []
    }
  },
  "nbformat": 4,
  "nbformat_minor": 0
}
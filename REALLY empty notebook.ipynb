{
  "cells": [
    {
      "cell_type": "markdown",
      "metadata": {
        "id": "-APdJajUKOED"
      },
      "source": [
        "<a href=\"https://www.hydroffice.org/epom/\"><img src=\"https://github.com/claupera/ipynb-practice/blob/main/images/000_000_epom_logo.png?raw=1\" alt=\"ePOM\" title=\"Open ePOM home page\" align=\"center\" width=\"12%\" alt=\"Python logo\\\"></a>"
      ]
    },
    {
      "cell_type": "markdown",
      "metadata": {
        "id": "WWnqjEtrKOEF"
      },
      "source": [
        "<a href=\"https://piazza.com/class/js5dnu0q39n6qe\"><img src=\"https://github.com/claupera/ipynb-practice/blob/main/images/help.png?raw=1\" alt=\"ePOM\" title=\"Ask questions on Piazza.com\" align=\"right\" width=\"10%\" alt=\"Piazza.com\\\"></a>\n",
        "# Title"
      ]
    },
    {
      "cell_type": "code",
      "source": [],
      "metadata": {
        "id": "RDlp7NlZ9swF"
      },
      "execution_count": null,
      "outputs": []
    }
  ],
  "metadata": {
    "kernelspec": {
      "display_name": "Python 3",
      "language": "python",
      "name": "python3"
    },
    "language_info": {
      "codemirror_mode": {
        "name": "ipython",
        "version": 3
      },
      "file_extension": ".py",
      "mimetype": "text/x-python",
      "name": "python",
      "nbconvert_exporter": "python",
      "pygments_lexer": "ipython3",
      "version": "3.6.7"
    },
    "colab": {
      "provenance": []
    }
  },
  "nbformat": 4,
  "nbformat_minor": 0
}
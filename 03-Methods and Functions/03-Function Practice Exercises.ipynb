{
  "cells": [
    {
      "cell_type": "markdown",
      "metadata": {
        "id": "-YsjPgGYxBeg"
      },
      "source": [
        "___\n",
        "\n",
        "<a href='https://www.udemy.com/user/joseportilla/'><img src='https://github.com/Pierian-Data/Complete-Python-3-Bootcamp/blob/master/Pierian_Data_Logo.png?raw=1'/></a>\n",
        "___\n",
        "<center><em>Content Copyright by Pierian Data</em></center>"
      ]
    },
    {
      "cell_type": "markdown",
      "metadata": {
        "id": "GwKfMAhRxBei"
      },
      "source": [
        "# Function Practice Exercises\n",
        "\n",
        "Problems are arranged in increasing difficulty:\n",
        "* Warmup - these can be solved using basic comparisons and methods\n",
        "* Level 1 - these may involve if/then conditional statements and simple methods\n",
        "* Level 2 - these may require iterating over sequences, usually with some kind of loop\n",
        "* Challenging - these will take some creativity to solve"
      ]
    },
    {
      "cell_type": "markdown",
      "metadata": {
        "id": "hyLa3Rf7xBej"
      },
      "source": [
        "## WARMUP SECTION:"
      ]
    },
    {
      "cell_type": "markdown",
      "metadata": {
        "id": "b94KVP0FxBej"
      },
      "source": [
        "#### LESSER OF TWO EVENS: Write a function that returns the lesser of two given numbers *if* both numbers are even, but returns the greater if one or both numbers are odd\n",
        "    lesser_of_two_evens(2,4) --> 2\n",
        "    lesser_of_two_evens(2,5) --> 5"
      ]
    },
    {
      "cell_type": "code",
      "execution_count": null,
      "metadata": {
        "collapsed": true,
        "id": "eTjyd5ozxBek"
      },
      "outputs": [],
      "source": [
        "def lesser_of_two_evens(a,b):\n",
        "    pass"
      ]
    },
    {
      "cell_type": "code",
      "execution_count": null,
      "metadata": {
        "collapsed": true,
        "id": "uTnkeYm7xBel"
      },
      "outputs": [],
      "source": [
        "# Check\n",
        "lesser_of_two_evens(2,4)"
      ]
    },
    {
      "cell_type": "code",
      "execution_count": null,
      "metadata": {
        "collapsed": true,
        "id": "GZ9xa2XGxBel"
      },
      "outputs": [],
      "source": [
        "# Check\n",
        "lesser_of_two_evens(2,5)"
      ]
    },
    {
      "cell_type": "markdown",
      "metadata": {
        "id": "FLHyAdJfxBem"
      },
      "source": [
        "#### ANIMAL CRACKERS: Write a function takes a two-word string and returns True if both words begin with same letter\n",
        "    animal_crackers('Levelheaded Llama') --> True\n",
        "    animal_crackers('Crazy Kangaroo') --> False"
      ]
    },
    {
      "cell_type": "code",
      "execution_count": null,
      "metadata": {
        "collapsed": true,
        "id": "KdpWkhOxxBem"
      },
      "outputs": [],
      "source": [
        "def animal_crackers(text):\n",
        "    pass"
      ]
    },
    {
      "cell_type": "code",
      "execution_count": null,
      "metadata": {
        "collapsed": true,
        "id": "J4C53Qu2xBem"
      },
      "outputs": [],
      "source": [
        "# Check\n",
        "animal_crackers('Levelheaded Llama')"
      ]
    },
    {
      "cell_type": "code",
      "execution_count": null,
      "metadata": {
        "collapsed": true,
        "id": "vG2gEmHpxBem"
      },
      "outputs": [],
      "source": [
        "# Check\n",
        "animal_crackers('Crazy Kangaroo')"
      ]
    },
    {
      "cell_type": "markdown",
      "metadata": {
        "id": "uLDE89j6xBen"
      },
      "source": [
        "#### MAKES TWENTY: Given two integers, return True if the sum of the integers is 20 *or* if one of the integers is 20. If not, return False\n",
        "\n",
        "    makes_twenty(20,10) --> True\n",
        "    makes_twenty(12,8) --> True\n",
        "    makes_twenty(2,3) --> False"
      ]
    },
    {
      "cell_type": "code",
      "execution_count": null,
      "metadata": {
        "collapsed": true,
        "id": "BfC-nDAxxBen"
      },
      "outputs": [],
      "source": [
        "def makes_twenty(n1,n2):\n",
        "    pass"
      ]
    },
    {
      "cell_type": "code",
      "execution_count": null,
      "metadata": {
        "collapsed": true,
        "id": "REr3-fogxBen"
      },
      "outputs": [],
      "source": [
        "# Check\n",
        "makes_twenty(20,10)"
      ]
    },
    {
      "cell_type": "code",
      "execution_count": null,
      "metadata": {
        "collapsed": true,
        "id": "fxOW_-gAxBeo"
      },
      "outputs": [],
      "source": [
        "# Check\n",
        "makes_twenty(2,3)"
      ]
    },
    {
      "cell_type": "markdown",
      "metadata": {
        "id": "u3wkERh6xBeo"
      },
      "source": [
        "# LEVEL 1 PROBLEMS"
      ]
    },
    {
      "cell_type": "markdown",
      "metadata": {
        "id": "mtJoQeNUxBep"
      },
      "source": [
        "#### OLD MACDONALD: Write a function that capitalizes the first and fourth letters of a name\n",
        "     \n",
        "    old_macdonald('macdonald') --> MacDonald\n",
        "    \n",
        "Note: `'macdonald'.capitalize()` returns `'Macdonald'`"
      ]
    },
    {
      "cell_type": "code",
      "execution_count": null,
      "metadata": {
        "collapsed": true,
        "id": "VjUTQjkzxBep"
      },
      "outputs": [],
      "source": [
        "def old_macdonald(name):\n",
        "    pass"
      ]
    },
    {
      "cell_type": "code",
      "execution_count": null,
      "metadata": {
        "collapsed": true,
        "id": "GV_85lBOxBep"
      },
      "outputs": [],
      "source": [
        "# Check\n",
        "old_macdonald('macdonald')"
      ]
    },
    {
      "cell_type": "markdown",
      "metadata": {
        "id": "9WYBbTUixBeq"
      },
      "source": [
        "#### MASTER YODA: Given a sentence, return a sentence with the words reversed\n",
        "\n",
        "    master_yoda('I am home') --> 'home am I'\n",
        "    master_yoda('We are ready') --> 'ready are We'\n",
        "    \n",
        "Note: The .join() method may be useful here. The .join() method allows you to join together strings in a list with some connector string. For example, some uses of the .join() method:\n",
        "\n",
        "    >>> \"--\".join(['a','b','c'])\n",
        "    >>> 'a--b--c'\n",
        "\n",
        "This means if you had a list of words you wanted to turn back into a sentence, you could just join them with a single space string:\n",
        "\n",
        "    >>> \" \".join(['Hello','world'])\n",
        "    >>> \"Hello world\""
      ]
    },
    {
      "cell_type": "code",
      "execution_count": null,
      "metadata": {
        "collapsed": true,
        "id": "MSYBQU1ixBeq"
      },
      "outputs": [],
      "source": [
        "def master_yoda(text):\n",
        "    pass"
      ]
    },
    {
      "cell_type": "code",
      "execution_count": null,
      "metadata": {
        "collapsed": true,
        "id": "aXjxGvZwxBeq"
      },
      "outputs": [],
      "source": [
        "# Check\n",
        "master_yoda('I am home')"
      ]
    },
    {
      "cell_type": "code",
      "execution_count": null,
      "metadata": {
        "collapsed": true,
        "id": "MdaYh-UdxBeq"
      },
      "outputs": [],
      "source": [
        "# Check\n",
        "master_yoda('We are ready')"
      ]
    },
    {
      "cell_type": "markdown",
      "metadata": {
        "id": "qrxuWbUhxBeq"
      },
      "source": [
        "#### ALMOST THERE: Given an integer n, return True if n is within 10 of either 100 or 200\n",
        "\n",
        "    almost_there(90) --> True\n",
        "    almost_there(104) --> True\n",
        "    almost_there(150) --> False\n",
        "    almost_there(209) --> True\n",
        "    \n",
        "NOTE: `abs(num)` returns the absolute value of a number"
      ]
    },
    {
      "cell_type": "code",
      "execution_count": null,
      "metadata": {
        "collapsed": true,
        "id": "6fmRBQfMxBer"
      },
      "outputs": [],
      "source": [
        "def almost_there(n):\n",
        "    pass"
      ]
    },
    {
      "cell_type": "code",
      "execution_count": null,
      "metadata": {
        "collapsed": true,
        "id": "Rq-_W8HRxBer"
      },
      "outputs": [],
      "source": [
        "# Check\n",
        "almost_there(104)"
      ]
    },
    {
      "cell_type": "code",
      "execution_count": null,
      "metadata": {
        "collapsed": true,
        "id": "mWFFQZAQxBer"
      },
      "outputs": [],
      "source": [
        "# Check\n",
        "almost_there(150)"
      ]
    },
    {
      "cell_type": "code",
      "execution_count": null,
      "metadata": {
        "collapsed": true,
        "id": "d8WLgbf8xBer"
      },
      "outputs": [],
      "source": [
        "# Check\n",
        "almost_there(209)"
      ]
    },
    {
      "cell_type": "markdown",
      "metadata": {
        "id": "DrlF8DkdxBer"
      },
      "source": [
        "# LEVEL 2 PROBLEMS"
      ]
    },
    {
      "cell_type": "markdown",
      "metadata": {
        "id": "S78H6AYsxBes"
      },
      "source": [
        "#### FIND 33:\n",
        "\n",
        "Given a list of ints, return True if the array contains a 3 next to a 3 somewhere.\n",
        "\n",
        "    has_33([1, 3, 3]) → True\n",
        "    has_33([1, 3, 1, 3]) → False\n",
        "    has_33([3, 1, 3]) → False"
      ]
    },
    {
      "cell_type": "code",
      "execution_count": null,
      "metadata": {
        "collapsed": true,
        "id": "LE5BQo1hxBes"
      },
      "outputs": [],
      "source": [
        "def has_33(nums):\n",
        "    pass"
      ]
    },
    {
      "cell_type": "code",
      "execution_count": null,
      "metadata": {
        "collapsed": true,
        "id": "Hboz5iYKxBet"
      },
      "outputs": [],
      "source": [
        "# Check\n",
        "has_33([1, 3, 3])"
      ]
    },
    {
      "cell_type": "code",
      "execution_count": null,
      "metadata": {
        "collapsed": true,
        "id": "FhLgQ0HzxBet"
      },
      "outputs": [],
      "source": [
        "# Check\n",
        "has_33([1, 3, 1, 3])"
      ]
    },
    {
      "cell_type": "code",
      "execution_count": null,
      "metadata": {
        "collapsed": true,
        "id": "GtnNuU7PxBeu"
      },
      "outputs": [],
      "source": [
        "# Check\n",
        "has_33([3, 1, 3])"
      ]
    },
    {
      "cell_type": "markdown",
      "metadata": {
        "id": "ejL8bGkJxBeu"
      },
      "source": [
        "#### PAPER DOLL: Given a string, return a string where for every character in the original there are three characters\n",
        "    paper_doll('Hello') --> 'HHHeeellllllooo'\n",
        "    paper_doll('Mississippi') --> 'MMMiiissssssiiippppppiii'"
      ]
    },
    {
      "cell_type": "code",
      "execution_count": null,
      "metadata": {
        "collapsed": true,
        "id": "unqNZPegxBeu"
      },
      "outputs": [],
      "source": [
        "def paper_doll(text):\n",
        "    pass"
      ]
    },
    {
      "cell_type": "code",
      "execution_count": null,
      "metadata": {
        "collapsed": true,
        "id": "puCaruZixBev"
      },
      "outputs": [],
      "source": [
        "# Check\n",
        "paper_doll('Hello')"
      ]
    },
    {
      "cell_type": "code",
      "execution_count": null,
      "metadata": {
        "collapsed": true,
        "id": "wwXwqUwBxBev"
      },
      "outputs": [],
      "source": [
        "# Check\n",
        "paper_doll('Mississippi')"
      ]
    },
    {
      "cell_type": "markdown",
      "metadata": {
        "id": "oPpL_Yx1xBev"
      },
      "source": [
        "#### BLACKJACK: Given three integers between 1 and 11, if their sum is less than or equal to 21, return their sum. If their sum exceeds 21 *and* there's an eleven, reduce the total sum by 10. Finally, if the sum (even after adjustment) exceeds 21, return 'BUST'\n",
        "    blackjack(5,6,7) --> 18\n",
        "    blackjack(9,9,9) --> 'BUST'\n",
        "    blackjack(9,9,11) --> 19"
      ]
    },
    {
      "cell_type": "code",
      "execution_count": null,
      "metadata": {
        "collapsed": true,
        "id": "vFGjI38-xBe1"
      },
      "outputs": [],
      "source": [
        "def blackjack(a,b,c):\n",
        "    pass"
      ]
    },
    {
      "cell_type": "code",
      "execution_count": null,
      "metadata": {
        "collapsed": true,
        "id": "gA01KVpBxBe1"
      },
      "outputs": [],
      "source": [
        "# Check\n",
        "blackjack(5,6,7)"
      ]
    },
    {
      "cell_type": "code",
      "execution_count": null,
      "metadata": {
        "collapsed": true,
        "id": "FujZPrg1xBe1"
      },
      "outputs": [],
      "source": [
        "# Check\n",
        "blackjack(9,9,9)"
      ]
    },
    {
      "cell_type": "code",
      "execution_count": null,
      "metadata": {
        "collapsed": true,
        "id": "XhiOiVmHxBe2"
      },
      "outputs": [],
      "source": [
        "# Check\n",
        "blackjack(9,9,11)"
      ]
    },
    {
      "cell_type": "markdown",
      "metadata": {
        "id": "Y_Zi-tf5xBe2"
      },
      "source": [
        "#### SUMMER OF '69: Return the sum of the numbers in the array, except ignore sections of numbers starting with a 6 and extending to the next 9 (every 6 will be followed by at least one 9). Return 0 for no numbers.\n",
        "\n",
        "    summer_69([1, 3, 5]) --> 9\n",
        "    summer_69([4, 5, 6, 7, 8, 9]) --> 9\n",
        "    summer_69([2, 1, 6, 9, 11]) --> 14"
      ]
    },
    {
      "cell_type": "code",
      "execution_count": null,
      "metadata": {
        "collapsed": true,
        "id": "eNfksof0xBe2"
      },
      "outputs": [],
      "source": [
        "def summer_69(arr):\n",
        "    pass"
      ]
    },
    {
      "cell_type": "code",
      "execution_count": null,
      "metadata": {
        "collapsed": true,
        "id": "hR9vKWluxBe2"
      },
      "outputs": [],
      "source": [
        "# Check\n",
        "summer_69([1, 3, 5])"
      ]
    },
    {
      "cell_type": "code",
      "execution_count": null,
      "metadata": {
        "collapsed": true,
        "id": "wh6miDLAxBe3"
      },
      "outputs": [],
      "source": [
        "# Check\n",
        "summer_69([4, 5, 6, 7, 8, 9])"
      ]
    },
    {
      "cell_type": "code",
      "execution_count": null,
      "metadata": {
        "collapsed": true,
        "id": "zYLsVG88xBe3"
      },
      "outputs": [],
      "source": [
        "# Check\n",
        "summer_69([2, 1, 6, 9, 11])"
      ]
    },
    {
      "cell_type": "markdown",
      "metadata": {
        "id": "ZCdrstWrxBe3"
      },
      "source": [
        "# CHALLENGING PROBLEMS"
      ]
    },
    {
      "cell_type": "markdown",
      "metadata": {
        "id": "Wj4Sb3cHxBe3"
      },
      "source": [
        "*italicized text*#### SPY GAME: Write a function that takes in a list of integers and returns True if it contains 007 in order\n",
        "\n",
        "     spy_game([1,2,4,0,0,7,5]) --> True\n",
        "     spy_game([1,0,2,4,0,5,7]) --> True\n",
        "     spy_game([1,7,2,0,4,5,0]) --> False\n"
      ]
    },
    {
      "cell_type": "code",
      "source": [
        "def spy_game(nums):\n",
        "  spy_list=[]\n",
        "  for number in nums:\n",
        "    if number == 0 or number ==7:\n",
        "      spy_list.append(number)\n",
        "  print (spy_list)\n",
        "  return spy_list == [0,0,7]\n",
        "\n",
        ""
      ],
      "metadata": {
        "id": "jqixusZizcp6"
      },
      "execution_count": 16,
      "outputs": []
    },
    {
      "cell_type": "code",
      "source": [
        "def spy_game(nums):\n",
        "  spy_list=[]\n",
        "  for number in nums:\n",
        "    if number == 0 or number ==7:\n",
        "      spy_list.append(number)\n",
        "    if spy_list == [0,0,7]:\n",
        "      print(spy_list)\n",
        "      return True\n",
        "  return spy_list == [0,0,7]\n",
        ""
      ],
      "metadata": {
        "id": "_lS3xull077n"
      },
      "execution_count": 26,
      "outputs": []
    },
    {
      "cell_type": "code",
      "source": [
        "# Check\n",
        "spy_game([1,2,4,0,0,7,5,0])"
      ],
      "metadata": {
        "id": "s__tn_xy00cO",
        "outputId": "d15e0417-e0f9-4701-e9b3-3b03267768e1",
        "colab": {
          "base_uri": "https://localhost:8080/"
        }
      },
      "execution_count": 27,
      "outputs": [
        {
          "output_type": "stream",
          "name": "stdout",
          "text": [
            "[0, 0, 7]\n"
          ]
        },
        {
          "output_type": "execute_result",
          "data": {
            "text/plain": [
              "True"
            ]
          },
          "metadata": {},
          "execution_count": 27
        }
      ]
    },
    {
      "cell_type": "code",
      "execution_count": 28,
      "metadata": {
        "collapsed": true,
        "id": "_psUHFmbxBe4",
        "outputId": "90e8f45c-86b2-44d8-f493-6b7d927a847a",
        "colab": {
          "base_uri": "https://localhost:8080/"
        }
      },
      "outputs": [
        {
          "output_type": "stream",
          "name": "stdout",
          "text": [
            "[0, 0, 7]\n"
          ]
        },
        {
          "output_type": "execute_result",
          "data": {
            "text/plain": [
              "True"
            ]
          },
          "metadata": {},
          "execution_count": 28
        }
      ],
      "source": [
        "# Check\n",
        "spy_game([1,2,4,0,0,7,5])"
      ]
    },
    {
      "cell_type": "code",
      "execution_count": 5,
      "metadata": {
        "collapsed": true,
        "id": "C1qFPWIPxBe4"
      },
      "outputs": [],
      "source": [
        "def spy_game(nums):\n",
        "    spy_list=[]\n",
        "    while spy_list != [0,0,7]:\n",
        "      for number in nums:\n",
        "        if number == 0:\n",
        "          spy_list.append(number)\n",
        "          print (spy_list)\n",
        "        else:\n",
        "          continue\n",
        "        if number == 7:\n",
        "          spy_list.append (number)"
      ]
    },
    {
      "cell_type": "code",
      "execution_count": 18,
      "metadata": {
        "collapsed": true,
        "id": "r5siYLdwxBe4",
        "outputId": "1627e546-0444-4876-f0b0-86f0e4b642df",
        "colab": {
          "base_uri": "https://localhost:8080/"
        }
      },
      "outputs": [
        {
          "output_type": "stream",
          "name": "stdout",
          "text": [
            "[0, 0, 7]\n"
          ]
        },
        {
          "output_type": "execute_result",
          "data": {
            "text/plain": [
              "True"
            ]
          },
          "metadata": {},
          "execution_count": 18
        }
      ],
      "source": [
        "# Check\n",
        "spy_game([1,0,2,4,0,5,7])"
      ]
    },
    {
      "cell_type": "code",
      "execution_count": 19,
      "metadata": {
        "collapsed": true,
        "id": "hk9MEdUKxBe4",
        "outputId": "a4f2f36f-cf54-4418-e30f-d3edd53fe3f1",
        "colab": {
          "base_uri": "https://localhost:8080/"
        }
      },
      "outputs": [
        {
          "output_type": "stream",
          "name": "stdout",
          "text": [
            "[7, 0, 0]\n"
          ]
        },
        {
          "output_type": "execute_result",
          "data": {
            "text/plain": [
              "False"
            ]
          },
          "metadata": {},
          "execution_count": 19
        }
      ],
      "source": [
        "# Check\n",
        "spy_game([1,7,2,0,4,5,0])"
      ]
    },
    {
      "cell_type": "markdown",
      "metadata": {
        "id": "9mFLnqsnxBe5"
      },
      "source": [
        "#### COUNT PRIMES: Write a function that returns the *number* of prime numbers that exist up to and including a given number\n",
        "    count_primes(100) --> 25\n",
        "\n",
        "By convention, 0 and 1 are not prime."
      ]
    },
    {
      "cell_type": "code",
      "source": [],
      "metadata": {
        "id": "RvrOLlrD3LJ7"
      },
      "execution_count": null,
      "outputs": []
    },
    {
      "cell_type": "code",
      "execution_count": 31,
      "metadata": {
        "collapsed": true,
        "id": "z98_0ZwnxBe5"
      },
      "outputs": [],
      "source": [
        "def count_primes(num):\n",
        "  prime_list=[]\n",
        "  for number in range (2,num+1):\n",
        "    prime_list.append(number)\n",
        "  return prime_list\n",
        ""
      ]
    },
    {
      "cell_type": "code",
      "execution_count": 32,
      "metadata": {
        "collapsed": true,
        "id": "D_iTJj8WxBe5",
        "outputId": "bae246d2-a6e5-4f61-f746-c0243ac4e0a2",
        "colab": {
          "base_uri": "https://localhost:8080/"
        }
      },
      "outputs": [
        {
          "output_type": "execute_result",
          "data": {
            "text/plain": [
              "[2,\n",
              " 3,\n",
              " 4,\n",
              " 5,\n",
              " 6,\n",
              " 7,\n",
              " 8,\n",
              " 9,\n",
              " 10,\n",
              " 11,\n",
              " 12,\n",
              " 13,\n",
              " 14,\n",
              " 15,\n",
              " 16,\n",
              " 17,\n",
              " 18,\n",
              " 19,\n",
              " 20,\n",
              " 21,\n",
              " 22,\n",
              " 23,\n",
              " 24,\n",
              " 25,\n",
              " 26,\n",
              " 27,\n",
              " 28,\n",
              " 29,\n",
              " 30,\n",
              " 31,\n",
              " 32,\n",
              " 33,\n",
              " 34,\n",
              " 35,\n",
              " 36,\n",
              " 37,\n",
              " 38,\n",
              " 39,\n",
              " 40,\n",
              " 41,\n",
              " 42,\n",
              " 43,\n",
              " 44,\n",
              " 45,\n",
              " 46,\n",
              " 47,\n",
              " 48,\n",
              " 49,\n",
              " 50,\n",
              " 51,\n",
              " 52,\n",
              " 53,\n",
              " 54,\n",
              " 55,\n",
              " 56,\n",
              " 57,\n",
              " 58,\n",
              " 59,\n",
              " 60,\n",
              " 61,\n",
              " 62,\n",
              " 63,\n",
              " 64,\n",
              " 65,\n",
              " 66,\n",
              " 67,\n",
              " 68,\n",
              " 69,\n",
              " 70,\n",
              " 71,\n",
              " 72,\n",
              " 73,\n",
              " 74,\n",
              " 75,\n",
              " 76,\n",
              " 77,\n",
              " 78,\n",
              " 79,\n",
              " 80,\n",
              " 81,\n",
              " 82,\n",
              " 83,\n",
              " 84,\n",
              " 85,\n",
              " 86,\n",
              " 87,\n",
              " 88,\n",
              " 89,\n",
              " 90,\n",
              " 91,\n",
              " 92,\n",
              " 93,\n",
              " 94,\n",
              " 95,\n",
              " 96,\n",
              " 97,\n",
              " 98,\n",
              " 99,\n",
              " 100]"
            ]
          },
          "metadata": {},
          "execution_count": 32
        }
      ],
      "source": [
        "# Check\n",
        "count_primes(100)"
      ]
    },
    {
      "cell_type": "markdown",
      "metadata": {
        "id": "2BfpdgH2xBe6"
      },
      "source": [
        "### Just for fun:\n",
        "#### PRINT BIG: Write a function that takes in a single letter, and returns a 5x5 representation of that letter\n",
        "    print_big('a')\n",
        "    \n",
        "    out:   *  \n",
        "          * *\n",
        "         *****\n",
        "         *   *\n",
        "         *   *\n",
        "HINT: Consider making a dictionary of possible patterns, and mapping the alphabet to specific 5-line combinations of patterns. <br>For purposes of this exercise, it's ok if your dictionary stops at \"E\"."
      ]
    },
    {
      "cell_type": "code",
      "execution_count": null,
      "metadata": {
        "collapsed": true,
        "id": "2FjaZ5-mxBe6"
      },
      "outputs": [],
      "source": [
        "def print_big(letter):\n",
        "    pass"
      ]
    },
    {
      "cell_type": "code",
      "execution_count": null,
      "metadata": {
        "collapsed": true,
        "id": "Vq-JiFMLxBe6"
      },
      "outputs": [],
      "source": [
        "print_big('a')"
      ]
    },
    {
      "cell_type": "markdown",
      "metadata": {
        "id": "ZJzX6HnaxBe6"
      },
      "source": [
        "## Great Job!"
      ]
    }
  ],
  "metadata": {
    "kernelspec": {
      "display_name": "Python 3",
      "language": "python",
      "name": "python3"
    },
    "language_info": {
      "codemirror_mode": {
        "name": "ipython",
        "version": 3
      },
      "file_extension": ".py",
      "mimetype": "text/x-python",
      "name": "python",
      "nbconvert_exporter": "python",
      "pygments_lexer": "ipython3",
      "version": "3.6.6"
    },
    "colab": {
      "provenance": []
    }
  },
  "nbformat": 4,
  "nbformat_minor": 0
}
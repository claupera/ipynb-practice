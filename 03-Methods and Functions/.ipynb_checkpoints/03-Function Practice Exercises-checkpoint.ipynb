{
  "cells": [
    {
      "cell_type": "markdown",
      "metadata": {
        "id": "flfsT_Inv8kk"
      },
      "source": [
        "___\n",
        "\n",
        "<a href='https://www.udemy.com/user/joseportilla/'><img src='https://github.com/Pierian-Data/Complete-Python-3-Bootcamp/blob/master/03-Methods%20and%20Functions/Pierian_Data_Logo.png?raw=1'/></a>\n",
        "___\n",
        "<center><em>Content Copyright by Pierian Data</em></center>"
      ]
    },
    {
      "cell_type": "markdown",
      "metadata": {
        "id": "nr7Kv8Ikv8kl"
      },
      "source": [
        "# Function Practice Exercises\n",
        "\n",
        "Problems are arranged in increasing difficulty:\n",
        "* Warmup - these can be solved using basic comparisons and methods\n",
        "* Level 1 - these may involve if/then conditional statements and simple methods\n",
        "* Level 2 - these may require iterating over sequences, usually with some kind of loop\n",
        "* Challenging - these will take some creativity to solve"
      ]
    },
    {
      "cell_type": "markdown",
      "metadata": {
        "id": "uirpqKKWv8kl"
      },
      "source": [
        "## WARMUP SECTION:"
      ]
    },
    {
      "cell_type": "markdown",
      "metadata": {
        "id": "zIWG3vcSv8km"
      },
      "source": [
        "#### LESSER OF TWO EVENS: Write a function that returns the lesser of two given numbers *if* both numbers are even, but returns the greater if one or both numbers are odd\n",
        "    lesser_of_two_evens(2,4) --> 2\n",
        "    lesser_of_two_evens(2,5) --> 5"
      ]
    },
    {
      "cell_type": "code",
      "execution_count": null,
      "metadata": {
        "collapsed": true,
        "id": "V56cltldv8km"
      },
      "outputs": [],
      "source": [
        "def lesser_of_two_evens(a,b):\n",
        "    pass"
      ]
    },
    {
      "cell_type": "code",
      "execution_count": null,
      "metadata": {
        "collapsed": true,
        "id": "bLFBYHYCv8km"
      },
      "outputs": [],
      "source": [
        "# Check\n",
        "lesser_of_two_evens(2,4)"
      ]
    },
    {
      "cell_type": "code",
      "execution_count": null,
      "metadata": {
        "collapsed": true,
        "id": "ocSOGicIv8km"
      },
      "outputs": [],
      "source": [
        "# Check\n",
        "lesser_of_two_evens(2,5)"
      ]
    },
    {
      "cell_type": "markdown",
      "metadata": {
        "id": "jgvH6UCCv8km"
      },
      "source": [
        "#### ANIMAL CRACKERS: Write a function takes a two-word string and returns True if both words begin with same letter\n",
        "    animal_crackers('Levelheaded Llama') --> True\n",
        "    animal_crackers('Crazy Kangaroo') --> False"
      ]
    },
    {
      "cell_type": "code",
      "execution_count": null,
      "metadata": {
        "collapsed": true,
        "id": "RFpz0Erbv8kn"
      },
      "outputs": [],
      "source": [
        "def animal_crackers(text):\n",
        "    pass"
      ]
    },
    {
      "cell_type": "code",
      "execution_count": null,
      "metadata": {
        "collapsed": true,
        "id": "DNWsdq_yv8kn"
      },
      "outputs": [],
      "source": [
        "# Check\n",
        "animal_crackers('Levelheaded Llama')"
      ]
    },
    {
      "cell_type": "code",
      "execution_count": null,
      "metadata": {
        "collapsed": true,
        "id": "CdeEdAF0v8kn"
      },
      "outputs": [],
      "source": [
        "# Check\n",
        "animal_crackers('Crazy Kangaroo')"
      ]
    },
    {
      "cell_type": "markdown",
      "metadata": {
        "id": "OTWIA4Klv8kn"
      },
      "source": [
        "#### MAKES TWENTY: Given two integers, return True if the sum of the integers is 20 *or* if one of the integers is 20. If not, return False\n",
        "\n",
        "    makes_twenty(20,10) --> True\n",
        "    makes_twenty(12,8) --> True\n",
        "    makes_twenty(2,3) --> False"
      ]
    },
    {
      "cell_type": "code",
      "execution_count": null,
      "metadata": {
        "collapsed": true,
        "id": "5DccM01Cv8kn"
      },
      "outputs": [],
      "source": [
        "def makes_twenty(n1,n2):\n",
        "    pass"
      ]
    },
    {
      "cell_type": "code",
      "execution_count": null,
      "metadata": {
        "collapsed": true,
        "id": "s_Fk7e49v8kn"
      },
      "outputs": [],
      "source": [
        "# Check\n",
        "makes_twenty(20,10)"
      ]
    },
    {
      "cell_type": "code",
      "execution_count": null,
      "metadata": {
        "collapsed": true,
        "id": "-lpbVHELv8kn"
      },
      "outputs": [],
      "source": [
        "# Check\n",
        "makes_twenty(2,3)"
      ]
    },
    {
      "cell_type": "markdown",
      "metadata": {
        "id": "goaZVI1sv8kn"
      },
      "source": [
        "# LEVEL 1 PROBLEMS"
      ]
    },
    {
      "cell_type": "markdown",
      "metadata": {
        "id": "auna35Vkv8kn"
      },
      "source": [
        "#### OLD MACDONALD: Write a function that capitalizes the first and fourth letters of a name\n",
        "     \n",
        "    old_macdonald('macdonald') --> MacDonald\n",
        "    \n",
        "Note: `'macdonald'.capitalize()` returns `'Macdonald'`"
      ]
    },
    {
      "cell_type": "code",
      "execution_count": null,
      "metadata": {
        "collapsed": true,
        "id": "-lgRlt3Yv8ko"
      },
      "outputs": [],
      "source": [
        "def old_macdonald(name):\n",
        "    new_name = name[0].upper()+name[1:3]+name[3].upper()+name[4:]\n",
        "    return new_name"
      ]
    },
    {
      "cell_type": "code",
      "execution_count": null,
      "metadata": {
        "collapsed": true,
        "colab": {
          "base_uri": "https://localhost:8080/",
          "height": 35
        },
        "id": "Kk1loH1nv8ko",
        "outputId": "9a9d8e7f-c9e1-48a8-fe74-93b7830d4e75"
      },
      "outputs": [
        {
          "output_type": "execute_result",
          "data": {
            "text/plain": [
              "'MacDonald'"
            ],
            "application/vnd.google.colaboratory.intrinsic+json": {
              "type": "string"
            }
          },
          "metadata": {},
          "execution_count": 35
        }
      ],
      "source": [
        "# Check\n",
        "old_macdonald('macdonald')"
      ]
    },
    {
      "cell_type": "code",
      "source": [
        "old_macdonald('mayonesa')"
      ],
      "metadata": {
        "colab": {
          "base_uri": "https://localhost:8080/",
          "height": 35
        },
        "id": "jaH78Jxg0Rnv",
        "outputId": "1ec7e0e5-b2fb-4da0-b4d7-7946337d5fd1"
      },
      "execution_count": null,
      "outputs": [
        {
          "output_type": "execute_result",
          "data": {
            "text/plain": [
              "'MayOnesa'"
            ],
            "application/vnd.google.colaboratory.intrinsic+json": {
              "type": "string"
            }
          },
          "metadata": {},
          "execution_count": 36
        }
      ]
    },
    {
      "cell_type": "markdown",
      "metadata": {
        "id": "-KBe0Zrdv8ko"
      },
      "source": [
        "#### MASTER YODA: Given a sentence, return a sentence with the words reversed\n",
        "\n",
        "    master_yoda('I am home') --> 'home am I'\n",
        "    master_yoda('We are ready') --> 'ready are We'\n",
        "    \n",
        "Note: The .join() method may be useful here. The .join() method allows you to join together strings in a list with some connector string. For example, some uses of the .join() method:\n",
        "\n",
        "    >>> \"--\".join(['a','b','c'])\n",
        "    >>> 'a--b--c'\n",
        "\n",
        "This means if you had a list of words you wanted to turn back into a sentence, you could just join them with a single space string:\n",
        "\n",
        "    >>> \" \".join(['Hello','world'])\n",
        "    >>> \"Hello world\""
      ]
    },
    {
      "cell_type": "code",
      "execution_count": null,
      "metadata": {
        "collapsed": true,
        "id": "aFG8Kob3v8ko"
      },
      "outputs": [],
      "source": [
        "def master_yoda(text):\n",
        "  reversed_t=text.split()[::-1]\n",
        "  return \" \".join(reversed_t)"
      ]
    },
    {
      "cell_type": "code",
      "execution_count": null,
      "metadata": {
        "collapsed": true,
        "colab": {
          "base_uri": "https://localhost:8080/",
          "height": 35
        },
        "id": "YJ9gJq5ov8ko",
        "outputId": "a81997e0-e91d-463a-b3fd-5d8e0cbcd4a1"
      },
      "outputs": [
        {
          "output_type": "execute_result",
          "data": {
            "text/plain": [
              "'home am I'"
            ],
            "application/vnd.google.colaboratory.intrinsic+json": {
              "type": "string"
            }
          },
          "metadata": {},
          "execution_count": 21
        }
      ],
      "source": [
        "# Check\n",
        "master_yoda('I am home')"
      ]
    },
    {
      "cell_type": "code",
      "execution_count": null,
      "metadata": {
        "collapsed": true,
        "id": "LVafEgqzv8ko"
      },
      "outputs": [],
      "source": [
        "# Check\n",
        "master_yoda('We are ready')"
      ]
    },
    {
      "cell_type": "markdown",
      "metadata": {
        "id": "ZdkMyhFZv8ko"
      },
      "source": [
        "#### ALMOST THERE: Given an integer n, return True if n is within 10 of either 100 or 200\n",
        "\n",
        "    almost_there(90) --> True\n",
        "    almost_there(104) --> True\n",
        "    almost_there(150) --> False\n",
        "    almost_there(209) --> True\n",
        "    \n",
        "NOTE: `abs(num)` returns the absolute value of a number"
      ]
    },
    {
      "cell_type": "code",
      "execution_count": null,
      "metadata": {
        "collapsed": true,
        "id": "0FPeKZCsv8ko"
      },
      "outputs": [],
      "source": [
        "def almost_there(n):\n",
        "  if n < 100:\n",
        "    return 100 - n < 10\n",
        "  else:\n",
        "    return n-100 < 10"
      ]
    },
    {
      "cell_type": "code",
      "source": [
        "def almost_there(n):\n",
        "  return (abs (100-n)<10) or (abs (200-n)<10)"
      ],
      "metadata": {
        "id": "AEFoKvBc6DeM"
      },
      "execution_count": null,
      "outputs": []
    },
    {
      "cell_type": "code",
      "execution_count": null,
      "metadata": {
        "collapsed": true,
        "colab": {
          "base_uri": "https://localhost:8080/"
        },
        "id": "eDdCvghPv8ko",
        "outputId": "232f4adb-7a8e-4bdd-9eea-e4fe23d22094"
      },
      "outputs": [
        {
          "output_type": "execute_result",
          "data": {
            "text/plain": [
              "True"
            ]
          },
          "metadata": {},
          "execution_count": 62
        }
      ],
      "source": [
        "# Check\n",
        "almost_there(104)"
      ]
    },
    {
      "cell_type": "code",
      "execution_count": null,
      "metadata": {
        "collapsed": true,
        "colab": {
          "base_uri": "https://localhost:8080/"
        },
        "id": "LSv_fTzqv8ko",
        "outputId": "3b935b49-8280-4078-acbd-6cded0062d54"
      },
      "outputs": [
        {
          "output_type": "execute_result",
          "data": {
            "text/plain": [
              "False"
            ]
          },
          "metadata": {},
          "execution_count": 63
        }
      ],
      "source": [
        "# Check\n",
        "almost_there(150)"
      ]
    },
    {
      "cell_type": "code",
      "execution_count": null,
      "metadata": {
        "collapsed": true,
        "colab": {
          "base_uri": "https://localhost:8080/"
        },
        "id": "BH30NfKZv8ko",
        "outputId": "c0064197-5036-48bd-b7c6-89849586f245"
      },
      "outputs": [
        {
          "output_type": "execute_result",
          "data": {
            "text/plain": [
              "True"
            ]
          },
          "metadata": {},
          "execution_count": 64
        }
      ],
      "source": [
        "# Check\n",
        "almost_there(209)"
      ]
    },
    {
      "cell_type": "code",
      "source": [
        "# Check\n",
        "almost_there(3)"
      ],
      "metadata": {
        "colab": {
          "base_uri": "https://localhost:8080/"
        },
        "id": "xfRMrdwR4nkV",
        "outputId": "01c42841-0aaa-4c8d-d479-3bf562249527"
      },
      "execution_count": null,
      "outputs": [
        {
          "output_type": "execute_result",
          "data": {
            "text/plain": [
              "False"
            ]
          },
          "metadata": {},
          "execution_count": 65
        }
      ]
    },
    {
      "cell_type": "markdown",
      "metadata": {
        "id": "cNlGUCIav8ko"
      },
      "source": [
        "# LEVEL 2 PROBLEMS"
      ]
    },
    {
      "cell_type": "markdown",
      "metadata": {
        "id": "jIkrEbWCv8kp"
      },
      "source": [
        "#### FIND 33:\n",
        "\n",
        "Given a list of ints, return True if the array contains a 3 next to a 3 somewhere.\n",
        "\n",
        "    has_33([1, 3, 3]) → True\n",
        "    has_33([1, 3, 1, 3]) → False\n",
        "    has_33([3, 1, 3]) → False"
      ]
    },
    {
      "cell_type": "code",
      "execution_count": null,
      "metadata": {
        "collapsed": true,
        "id": "G1oKX96Vv8kp"
      },
      "outputs": [],
      "source": [
        "def has_33(nums):\n",
        "    index = 0\n",
        "    first = \"\"\n",
        "    second = \"\"\n",
        "    for item in nums:\n",
        "      if item == 3:\n",
        "        index +1\n",
        "    return first"
      ]
    },
    {
      "cell_type": "code",
      "source": [
        "def has_33(nums):\n",
        "    for i in range(0, len(nums) - 1):\n",
        "        print(list(range(0, len(nums) - 1)))"
      ],
      "metadata": {
        "id": "LRVRZeCxodiO"
      },
      "execution_count": null,
      "outputs": []
    },
    {
      "cell_type": "code",
      "execution_count": null,
      "metadata": {
        "colab": {
          "base_uri": "https://localhost:8080/"
        },
        "id": "35dMA3_Ov8kp",
        "outputId": "74a20eae-55a8-4670-9a76-ddd353dfbf05"
      },
      "outputs": [
        {
          "output_type": "stream",
          "name": "stdout",
          "text": [
            "[0, 1]\n",
            "[0, 1]\n"
          ]
        }
      ],
      "source": [
        "# Check\n",
        "has_33([1, 3, 3])"
      ]
    },
    {
      "cell_type": "code",
      "execution_count": null,
      "metadata": {
        "colab": {
          "base_uri": "https://localhost:8080/",
          "height": 35
        },
        "id": "CjLop0sSv8kp",
        "outputId": "2075d445-49cd-49a6-ff27-0051dd4ee55e"
      },
      "outputs": [
        {
          "output_type": "execute_result",
          "data": {
            "text/plain": [
              "'found'"
            ],
            "application/vnd.google.colaboratory.intrinsic+json": {
              "type": "string"
            }
          },
          "metadata": {},
          "execution_count": 70
        }
      ],
      "source": [
        "# Check\n",
        "has_33([1, 3, 1, 3])"
      ]
    },
    {
      "cell_type": "code",
      "execution_count": null,
      "metadata": {
        "collapsed": true,
        "colab": {
          "base_uri": "https://localhost:8080/",
          "height": 35
        },
        "id": "SSanCHY8v8kp",
        "outputId": "f428dc30-fbf6-4a1f-a587-46006eeb94f2"
      },
      "outputs": [
        {
          "output_type": "execute_result",
          "data": {
            "text/plain": [
              "'found'"
            ],
            "application/vnd.google.colaboratory.intrinsic+json": {
              "type": "string"
            }
          },
          "metadata": {},
          "execution_count": 71
        }
      ],
      "source": [
        "# Check\n",
        "has_33([3, 1, 3])"
      ]
    },
    {
      "cell_type": "code",
      "source": [
        "\"\"\"\n",
        "range practice\n",
        "\"\"\""
      ],
      "metadata": {
        "id": "qINQJs5JsTyo"
      },
      "execution_count": null,
      "outputs": []
    },
    {
      "cell_type": "code",
      "source": [
        "#Write a function called print_even_numbers that takes an integer n as an argument and prints all even numbers\n",
        "# from 0 up to (but not including) n.\n",
        "\n"
      ],
      "metadata": {
        "id": "6nl3HEXlsW2x"
      },
      "execution_count": null,
      "outputs": []
    },
    {
      "cell_type": "code",
      "source": [
        "def print_even_numbers(n):\n",
        "  even_list=[]\n",
        "  for i in range(0,n):\n",
        "    if i%2 == 0:\n",
        "      even_list.append(i)\n",
        "  return even_list\n",
        "\n"
      ],
      "metadata": {
        "id": "CMhe5dBPscPB"
      },
      "execution_count": null,
      "outputs": []
    },
    {
      "cell_type": "code",
      "source": [
        "#it doesn't work with return because it ends the function"
      ],
      "metadata": {
        "id": "gMC5lGpcupIp"
      },
      "execution_count": null,
      "outputs": []
    },
    {
      "cell_type": "code",
      "source": [
        "def print_even_numbers(n):\n",
        "  for i in range (n):\n",
        "    if i%2 ==0:\n",
        "      print (i)"
      ],
      "metadata": {
        "id": "lFK39uO1t1Ez"
      },
      "execution_count": null,
      "outputs": []
    },
    {
      "cell_type": "code",
      "source": [
        "print_even_numbers(10)"
      ],
      "metadata": {
        "id": "Hrz2KqREtCQt",
        "outputId": "d81d9fdb-6097-49e7-f19a-cdf3dd2c4fb5",
        "colab": {
          "base_uri": "https://localhost:8080/"
        }
      },
      "execution_count": null,
      "outputs": [
        {
          "output_type": "stream",
          "name": "stdout",
          "text": [
            "0\n",
            "2\n",
            "4\n",
            "6\n",
            "8\n"
          ]
        }
      ]
    },
    {
      "cell_type": "markdown",
      "source": [
        "Write a function called sum_of_squares that takes an integer n as an argument and returns the sum of the squares of all numbers from 0 up to (but not including) n.\n",
        "\n"
      ],
      "metadata": {
        "id": "AXR6EGHJtyVz"
      }
    },
    {
      "cell_type": "code",
      "source": [
        "def sum_of_squares (n):\n",
        "  tot_sum = 0\n",
        "  for i in range (0,n):\n",
        "    new_i = i**2\n",
        "    tot_sum += new_i\n",
        "  return tot_sum"
      ],
      "metadata": {
        "id": "PyYQsRJCJQ2P"
      },
      "execution_count": null,
      "outputs": []
    },
    {
      "cell_type": "code",
      "source": [
        "def sum_of_squares(n):\n",
        "  current_sq = 0\n",
        "  sum_int = 0\n",
        "  print(f\"The range is {range (n)}\")\n",
        "  for i in range (n):\n",
        "    print(f\"the number is {i}\")\n",
        "    current_sq = i*i\n",
        "    sum_int += current_sq\n",
        "    print(f\"the sum is {sum_int}\")\n",
        "  return sum_int\n"
      ],
      "metadata": {
        "id": "V4t8YoEAtyF2"
      },
      "execution_count": null,
      "outputs": []
    },
    {
      "cell_type": "code",
      "source": [
        "def sum_of_squares(n):\n",
        "  total = 0\n",
        "  for i in range (n):\n",
        "    total += i**2\n",
        "  return total"
      ],
      "metadata": {
        "id": "fPZ7XjmrxBm-"
      },
      "execution_count": null,
      "outputs": []
    },
    {
      "cell_type": "code",
      "source": [
        "sum_of_squares(3)"
      ],
      "metadata": {
        "id": "-hXnv3-RvX6D",
        "outputId": "62abd236-a2f4-43ec-eaf4-19dc13023fec",
        "colab": {
          "base_uri": "https://localhost:8080/"
        }
      },
      "execution_count": null,
      "outputs": [
        {
          "output_type": "execute_result",
          "data": {
            "text/plain": [
              "5"
            ]
          },
          "metadata": {},
          "execution_count": 11
        }
      ]
    },
    {
      "cell_type": "code",
      "source": [
        " #checking how to join letters. .split() funciona con strings de varias palabras, pero no para one word (no spaces/ separators)"
      ],
      "metadata": {
        "id": "TFer8NZWQk1s"
      },
      "execution_count": null,
      "outputs": []
    },
    {
      "cell_type": "code",
      "source": [
        "letters = ['h', 'e', 'l', 'l', 'o']\n",
        "word =  \",\".join(letters)\n",
        "print(word)"
      ],
      "metadata": {
        "colab": {
          "base_uri": "https://localhost:8080/"
        },
        "id": "5cYaHLk3PtkO",
        "outputId": "93d563bd-192e-488f-c2d3-13163e50a22a"
      },
      "execution_count": null,
      "outputs": [
        {
          "output_type": "stream",
          "name": "stdout",
          "text": [
            "h,e,l,l,o\n"
          ]
        }
      ]
    },
    {
      "cell_type": "code",
      "source": [
        "# Exercise 1: Print Each Character\n",
        "# Write a program that takes a string input from the user and prints each character on a new line."
      ],
      "metadata": {
        "id": "Ib_S2rD4Q-Un"
      },
      "execution_count": null,
      "outputs": []
    },
    {
      "cell_type": "code",
      "source": [
        "def print_characters (text):\n",
        "  for letter in text:\n",
        "    print (letter)"
      ],
      "metadata": {
        "id": "61QwceYXRFWS"
      },
      "execution_count": null,
      "outputs": []
    },
    {
      "cell_type": "code",
      "source": [
        "print_characters(\"hello\")"
      ],
      "metadata": {
        "colab": {
          "base_uri": "https://localhost:8080/"
        },
        "id": "SGolFDauRNLb",
        "outputId": "406db534-28c8-439e-e257-e8a7d2fdaad6"
      },
      "execution_count": null,
      "outputs": [
        {
          "output_type": "stream",
          "name": "stdout",
          "text": [
            "h\n",
            "e\n",
            "l\n",
            "l\n",
            "o\n"
          ]
        }
      ]
    },
    {
      "cell_type": "code",
      "source": [
        "# Count Vowels:Write a program that counts and prints the number of vowels (a, e, i, o, u) in a given string.\n"
      ],
      "metadata": {
        "id": "EuikfYCPRYY4"
      },
      "execution_count": null,
      "outputs": []
    },
    {
      "cell_type": "code",
      "source": [
        "def count_vowels (text):\n",
        "  tot_vowels = 0\n",
        "  for letter in text:\n",
        "    if letter == \"a\" or letter == \"e\" or letter == \"i\" or letter == \"o\" or letter == \"u\":\n",
        "      tot_vowels += 1\n",
        "  return tot_vowels\n"
      ],
      "metadata": {
        "id": "v_fZhFhuReNU"
      },
      "execution_count": null,
      "outputs": []
    },
    {
      "cell_type": "code",
      "source": [
        "count_vowels (\"la casa de sara\")"
      ],
      "metadata": {
        "colab": {
          "base_uri": "https://localhost:8080/"
        },
        "id": "dN3JgM7-Rxx6",
        "outputId": "0039df87-851a-488c-dfdf-c813303e664c"
      },
      "execution_count": null,
      "outputs": [
        {
          "output_type": "execute_result",
          "data": {
            "text/plain": [
              "6"
            ]
          },
          "metadata": {},
          "execution_count": 40
        }
      ]
    },
    {
      "cell_type": "code",
      "source": [
        "#revers string"
      ],
      "metadata": {
        "id": "FzEEEdQeTGh7"
      },
      "execution_count": null,
      "outputs": []
    },
    {
      "cell_type": "code",
      "source": [
        "def reverse_string (text):\n",
        "  return text [::-1]\n"
      ],
      "metadata": {
        "id": "2eX8Y-YhTKAO"
      },
      "execution_count": null,
      "outputs": []
    },
    {
      "cell_type": "code",
      "source": [
        "reverse_string(\"claudia\")"
      ],
      "metadata": {
        "colab": {
          "base_uri": "https://localhost:8080/",
          "height": 35
        },
        "id": "nTSrOsIpTevf",
        "outputId": "225e2c80-d5bd-4a0f-e2b3-b087e2a474a0"
      },
      "execution_count": null,
      "outputs": [
        {
          "output_type": "execute_result",
          "data": {
            "text/plain": [
              "'aidualc'"
            ],
            "application/vnd.google.colaboratory.intrinsic+json": {
              "type": "string"
            }
          },
          "metadata": {},
          "execution_count": 44
        }
      ]
    },
    {
      "cell_type": "code",
      "source": [
        "# Exercise 4: Create a List of Unique Characters\n",
        "#Write a program that takes a string and creates a list of unique characters in the order they first appear in the string. Print the resulting list."
      ],
      "metadata": {
        "id": "csEnh0UaTv-w"
      },
      "execution_count": null,
      "outputs": []
    },
    {
      "cell_type": "code",
      "source": [
        "def list_unique (text):\n",
        "  unique_charac =[]\n",
        "  for letter in text:\n",
        "    if letter not in unique_charac:\n",
        "      unique_charac.append(letter)\n",
        "  return unique_charac"
      ],
      "metadata": {
        "id": "FZ0DXIMuT1Av"
      },
      "execution_count": null,
      "outputs": []
    },
    {
      "cell_type": "code",
      "source": [
        "\"\"\"\n",
        "Exercise 5: Check for Palindrome\n",
        "Write a program that checks if a given string is a palindrome (reads the same forward and backward). Ignore spaces and punctuation.\n",
        "\n",
        "\"\"\""
      ],
      "metadata": {
        "colab": {
          "base_uri": "https://localhost:8080/",
          "height": 35
        },
        "id": "cjZauAdBU3uo",
        "outputId": "898b4ec2-8193-4cc2-b0f9-ffdfc48347e4"
      },
      "execution_count": null,
      "outputs": [
        {
          "output_type": "execute_result",
          "data": {
            "text/plain": [
              "'\\nExercise 5: Check for Palindrome\\nWrite a program that checks if a given string is a palindrome (reads the same forward and backward). Ignore spaces and punctuation.\\n\\n'"
            ],
            "application/vnd.google.colaboratory.intrinsic+json": {
              "type": "string"
            }
          },
          "metadata": {},
          "execution_count": 52
        }
      ]
    },
    {
      "cell_type": "code",
      "source": [
        "def check_palindrome (text):\n",
        "  reversed_text = text [::-1]\n",
        "  return text == reversed_text\n"
      ],
      "metadata": {
        "id": "NNDxiT17U6BM"
      },
      "execution_count": null,
      "outputs": []
    },
    {
      "cell_type": "code",
      "source": [
        "check_palindrome (\"oaao\")"
      ],
      "metadata": {
        "colab": {
          "base_uri": "https://localhost:8080/"
        },
        "id": "suF5TABqVPLD",
        "outputId": "b2da2b13-4063-4af8-ffe4-b39a307c7c7a"
      },
      "execution_count": null,
      "outputs": [
        {
          "output_type": "execute_result",
          "data": {
            "text/plain": [
              "True"
            ]
          },
          "metadata": {},
          "execution_count": 57
        }
      ]
    },
    {
      "cell_type": "code",
      "source": [
        "\"\"\"\n",
        "Exercise 6: Count Words\n",
        "Write a program that counts the number of words in a given string. Assume words are separated by spaces.\n",
        "\"\"\""
      ],
      "metadata": {
        "colab": {
          "base_uri": "https://localhost:8080/",
          "height": 35
        },
        "id": "p3pDRVLFVkHC",
        "outputId": "400fcd29-d776-4212-f027-367fdf20a943"
      },
      "execution_count": null,
      "outputs": [
        {
          "output_type": "execute_result",
          "data": {
            "text/plain": [
              "'\\nExercise 6: Count Words\\nWrite a program that counts the number of words in a given string. Assume words are separated by spaces.\\n'"
            ],
            "application/vnd.google.colaboratory.intrinsic+json": {
              "type": "string"
            }
          },
          "metadata": {},
          "execution_count": 58
        }
      ]
    },
    {
      "cell_type": "code",
      "source": [
        "def count_words(text):\n",
        "  total_count = 0\n",
        "  for word in text:\n",
        "    total_count +=1\n",
        "  return total_count\n"
      ],
      "metadata": {
        "id": "AWAKmeNKVl7J"
      },
      "execution_count": null,
      "outputs": []
    },
    {
      "cell_type": "code",
      "source": [
        "def count_words(text):\n",
        "  words = list (text.split())\n",
        "  return len(words)\n"
      ],
      "metadata": {
        "id": "LJb7vfBNV-_u"
      },
      "execution_count": null,
      "outputs": []
    },
    {
      "cell_type": "code",
      "source": [
        "text = \"hola lola\"\n",
        "what = text.split()\n",
        "print(what)\n",
        "type(what)"
      ],
      "metadata": {
        "colab": {
          "base_uri": "https://localhost:8080/"
        },
        "id": "IPV8rRyVWmap",
        "outputId": "59292cef-893e-4124-c56f-a76f037b4d8d"
      },
      "execution_count": null,
      "outputs": [
        {
          "output_type": "stream",
          "name": "stdout",
          "text": [
            "['hola', 'lola']\n"
          ]
        },
        {
          "output_type": "execute_result",
          "data": {
            "text/plain": [
              "list"
            ]
          },
          "metadata": {},
          "execution_count": 74
        }
      ]
    },
    {
      "cell_type": "code",
      "source": [
        "count_words(\"me dijo hola\")"
      ],
      "metadata": {
        "colab": {
          "base_uri": "https://localhost:8080/"
        },
        "id": "nV6htc9WV2qt",
        "outputId": "a6b77537-cbba-4d41-f90b-9d530a5db1f3"
      },
      "execution_count": null,
      "outputs": [
        {
          "output_type": "execute_result",
          "data": {
            "text/plain": [
              "3"
            ]
          },
          "metadata": {},
          "execution_count": 67
        }
      ]
    },
    {
      "cell_type": "code",
      "source": [
        "list_unique (\"hola hola\")"
      ],
      "metadata": {
        "colab": {
          "base_uri": "https://localhost:8080/"
        },
        "id": "PQkj7Ct_USNA",
        "outputId": "cd5a3a2e-6010-4427-f182-c661b27354bd"
      },
      "execution_count": null,
      "outputs": [
        {
          "output_type": "execute_result",
          "data": {
            "text/plain": [
              "['h', 'o', 'l', 'a', ' ']"
            ]
          },
          "metadata": {},
          "execution_count": 51
        }
      ]
    },
    {
      "cell_type": "code",
      "source": [],
      "metadata": {
        "id": "KgdXsHNLW-t7"
      },
      "execution_count": null,
      "outputs": []
    },
    {
      "cell_type": "code",
      "source": [
        "\"\"\"\n",
        "Exercise 7: Create a Dictionary of Character Counts\n",
        "Write a program that creates a dictionary where the keys are characters in a given string and the values are the counts of those characters.\n",
        "\"\"\""
      ],
      "metadata": {
        "colab": {
          "base_uri": "https://localhost:8080/",
          "height": 35
        },
        "id": "Mj_4om9cXDcC",
        "outputId": "c8440c88-8f59-4018-f08a-401578d1a3f0"
      },
      "execution_count": null,
      "outputs": [
        {
          "output_type": "execute_result",
          "data": {
            "text/plain": [
              "'\\nExercise 7: Create a Dictionary of Character Counts\\nWrite a program that creates a dictionary where the keys are characters in a given string and the values are the counts of those characters.\\n'"
            ],
            "application/vnd.google.colaboratory.intrinsic+json": {
              "type": "string"
            }
          },
          "metadata": {},
          "execution_count": 75
        }
      ]
    },
    {
      "cell_type": "code",
      "source": [
        "def characters_counts (text):\n",
        "  my_dict={}\n",
        "  for letter in text:\n",
        "    if letter in my_dict:\n",
        "      my_dict[letter] +=1\n",
        "    else:\n",
        "      my_dict[letter] =1\n",
        "\n",
        "  return my_dict\n",
        "\n"
      ],
      "metadata": {
        "id": "DAvhY0kccW0r"
      },
      "execution_count": null,
      "outputs": []
    },
    {
      "cell_type": "code",
      "source": [
        "characters_counts (\"hello world\")"
      ],
      "metadata": {
        "colab": {
          "base_uri": "https://localhost:8080/"
        },
        "id": "ukKUirQ-m4x9",
        "outputId": "929077df-1976-43db-f1c5-6fc41c43cc21"
      },
      "execution_count": null,
      "outputs": [
        {
          "output_type": "execute_result",
          "data": {
            "text/plain": [
              "{'h': 1, 'e': 1, 'l': 3, 'o': 2, ' ': 1, 'w': 1, 'r': 1, 'd': 1}"
            ]
          },
          "metadata": {},
          "execution_count": 77
        }
      ]
    },
    {
      "cell_type": "code",
      "source": [
        "\"\"\"\n",
        "Exercise 8: Remove Duplicates\n",
        "Write a program that removes duplicate characters from a string while maintaining the original order.\n",
        "\"\"\""
      ],
      "metadata": {
        "id": "rE9gC7iNnL2w",
        "outputId": "f0d162ac-0759-4e5f-b47a-4a81a9f270a7",
        "colab": {
          "base_uri": "https://localhost:8080/",
          "height": 35
        }
      },
      "execution_count": null,
      "outputs": [
        {
          "output_type": "execute_result",
          "data": {
            "text/plain": [
              "'\\nExercise 8: Remove Duplicates\\nWrite a program that removes duplicate characters from a string while maintaining the original order.\\n'"
            ],
            "application/vnd.google.colaboratory.intrinsic+json": {
              "type": "string"
            }
          },
          "metadata": {},
          "execution_count": 78
        }
      ]
    },
    {
      "cell_type": "code",
      "source": [
        "def remove_duplicates(text):\n",
        "  new_text =\"\"\n",
        "  for letter in text:\n",
        "    if letter not in new_text:\n",
        "      new_text += letter\n",
        "    else:\n",
        "      pass\n",
        "  return new_text"
      ],
      "metadata": {
        "id": "hR2qiqDic3sk"
      },
      "execution_count": null,
      "outputs": []
    },
    {
      "cell_type": "code",
      "source": [
        "remove_duplicates(\"hoola\")"
      ],
      "metadata": {
        "colab": {
          "base_uri": "https://localhost:8080/",
          "height": 35
        },
        "id": "o1xZ663VdV0B",
        "outputId": "9a3045f4-0335-4613-8b31-eec7237862d2"
      },
      "execution_count": null,
      "outputs": [
        {
          "output_type": "execute_result",
          "data": {
            "text/plain": [
              "'hola'"
            ],
            "application/vnd.google.colaboratory.intrinsic+json": {
              "type": "string"
            }
          },
          "metadata": {},
          "execution_count": 5
        }
      ]
    },
    {
      "cell_type": "markdown",
      "metadata": {
        "id": "WRFiJDk0v8kp"
      },
      "source": [
        "#### PAPER DOLL: Given a string, return a string where for every character in the original there are three characters\n",
        "    paper_doll('Hello') --> 'HHHeeellllllooo'\n",
        "    paper_doll('Mississippi') --> 'MMMiiissssssiiippppppiii'"
      ]
    },
    {
      "cell_type": "code",
      "execution_count": null,
      "metadata": {
        "collapsed": true,
        "id": "dDtRfkBQv8kp"
      },
      "outputs": [],
      "source": [
        "def paper_doll(text):\n",
        "  new_text = \"\"\n",
        "  for letter in text:\n",
        "    new_text += letter * 3\n",
        "  return new_text"
      ]
    },
    {
      "cell_type": "code",
      "execution_count": null,
      "metadata": {
        "collapsed": true,
        "id": "fopqEi4uv8kp",
        "colab": {
          "base_uri": "https://localhost:8080/",
          "height": 35
        },
        "outputId": "fdf6bee3-57ee-4c4d-baba-560c9a913831"
      },
      "outputs": [
        {
          "output_type": "execute_result",
          "data": {
            "text/plain": [
              "'HHHeeellllllooo'"
            ],
            "application/vnd.google.colaboratory.intrinsic+json": {
              "type": "string"
            }
          },
          "metadata": {},
          "execution_count": 23
        }
      ],
      "source": [
        "# Check\n",
        "paper_doll('Hello')"
      ]
    },
    {
      "cell_type": "code",
      "execution_count": null,
      "metadata": {
        "collapsed": true,
        "id": "fQMZuHuBv8kp",
        "colab": {
          "base_uri": "https://localhost:8080/",
          "height": 35
        },
        "outputId": "47cab5a9-5190-429d-a706-5affcb41c51b"
      },
      "outputs": [
        {
          "output_type": "execute_result",
          "data": {
            "text/plain": [
              "'MMMiiissssssiiissssssiiippppppiii'"
            ],
            "application/vnd.google.colaboratory.intrinsic+json": {
              "type": "string"
            }
          },
          "metadata": {},
          "execution_count": 25
        }
      ],
      "source": [
        "# Check\n",
        "paper_doll('Mississippi')"
      ]
    },
    {
      "cell_type": "markdown",
      "metadata": {
        "id": "8igGRQzGv8kp"
      },
      "source": [
        "#### BLACKJACK: Given three integers between 1 and 11, if their sum is less than or equal to 21, return their sum. If their sum exceeds 21 *and* there's an eleven, reduce the total sum by 10. Finally, if the sum (even after adjustment) exceeds 21, return 'BUST'\n",
        "    blackjack(5,6,7) --> 18\n",
        "    blackjack(9,9,9) --> 'BUST'\n",
        "    blackjack(9,9,11) --> 19"
      ]
    },
    {
      "cell_type": "code",
      "source": [
        "#DANI aquí no quería hacer return para que no acabase la función, pero en realidad está ok que acabe\n",
        "# diferencia return y print en función es que return guarda?? No entiendo muy bien\n",
        "#en las soluciones utilizan if, elif else. Mejor suele ser menos líneas? dicen que no pero sí"
      ],
      "metadata": {
        "id": "3HUXAGPnjdDw"
      },
      "execution_count": null,
      "outputs": []
    },
    {
      "cell_type": "code",
      "source": [
        "def blackjack(a,b,c):\n",
        "  if sum(a,b,c) <= 21:\n",
        "    return sum(a,b,c)\n",
        "  elif sum(a,b,c) > 21 and 11 in (a,b,c):\n",
        "    new_sum= sum(a,b,c)-10\n",
        "    if new_sum < 21:\n",
        "      return new_sum\n",
        "    else:\n",
        "      return \"BUST\"\n",
        "  else:\n",
        "    return \"BUST\""
      ],
      "metadata": {
        "id": "x_hgNiwALbeF"
      },
      "execution_count": 5,
      "outputs": []
    },
    {
      "cell_type": "code",
      "source": [
        "from re import M\n",
        "def blackjack(a,b,c):\n",
        "  my_sum = sum(a,b,c)\n",
        "\n",
        "  if my_sum <= 21:\n",
        "    return my_sum\n",
        "\n",
        "  elif 11 in (a,b,c) and my_sum -10 <= 21:\n",
        "    return my_sum -10\n",
        "\n",
        "  return \"BUST\""
      ],
      "metadata": {
        "id": "EflFvYHYNq2n"
      },
      "execution_count": null,
      "outputs": []
    },
    {
      "cell_type": "code",
      "source": [
        "def blackjack(a,b,c):\n",
        "  if a + b + c <= 21:\n",
        "    return a+b+c\n",
        "  else:\n",
        "    if a == 11 or b == 11 or c == 11:\n",
        "     if a+b+c-10 < 21:\n",
        "      return a+b+c-10\n",
        "     else:\n",
        "      return \"BUST\"\n",
        "    else:\n",
        "      return \"BUST\""
      ],
      "metadata": {
        "id": "CBtk1PsoMSCY"
      },
      "execution_count": null,
      "outputs": []
    },
    {
      "cell_type": "code",
      "execution_count": 1,
      "metadata": {
        "collapsed": true,
        "id": "GrUlKSgWv8kq"
      },
      "outputs": [],
      "source": [
        "def blackjack(a,b,c):\n",
        "  if a + b + c <= 21:\n",
        "    print(a+b+c)\n",
        "  else:\n",
        "    if a == 11 or b == 11 or c == 11:\n",
        "     if a+b+c-10 < 21:\n",
        "      print (a+b+c-10)\n",
        "     else:\n",
        "      print (\"BUST\")\n",
        "    else:\n",
        "      print(\"BUST\")"
      ]
    },
    {
      "cell_type": "code",
      "execution_count": 6,
      "metadata": {
        "collapsed": true,
        "id": "_-NM31zhv8kq",
        "colab": {
          "base_uri": "https://localhost:8080/"
        },
        "outputId": "9479e3f5-b400-413d-834d-7747a6c248d4"
      },
      "outputs": [
        {
          "output_type": "stream",
          "name": "stdout",
          "text": [
            "result=18\n"
          ]
        }
      ],
      "source": [
        "# Check\n",
        "result = blackjack(5,6,7)\n",
        "print(f\"result={result}\")"
      ]
    },
    {
      "cell_type": "code",
      "execution_count": null,
      "metadata": {
        "collapsed": true,
        "id": "sOphXIgtv8kq",
        "colab": {
          "base_uri": "https://localhost:8080/"
        },
        "outputId": "c89488e7-4185-4f92-d218-8ec3d660a942"
      },
      "outputs": [
        {
          "output_type": "stream",
          "name": "stdout",
          "text": [
            "BUST\n"
          ]
        }
      ],
      "source": [
        "# Check\n",
        "blackjack(9,9,9)"
      ]
    },
    {
      "cell_type": "code",
      "execution_count": null,
      "metadata": {
        "collapsed": true,
        "id": "7_4FJLupv8kq",
        "colab": {
          "base_uri": "https://localhost:8080/"
        },
        "outputId": "deea4d16-05eb-4c29-a099-5bc53509b4ca"
      },
      "outputs": [
        {
          "output_type": "stream",
          "name": "stdout",
          "text": [
            "19\n"
          ]
        }
      ],
      "source": [
        "# Check\n",
        "blackjack(9,9,11)"
      ]
    },
    {
      "cell_type": "markdown",
      "metadata": {
        "id": "Z-Lhprenv8kr"
      },
      "source": [
        "#### SUMMER OF '69: Return the sum of the numbers in the array, except ignore sections of numbers starting with a 6 and extending to the next 9 (every 6 will be followed by at least one 9). Return 0 for no numbers.\n",
        "\n",
        "    summer_69([1, 3, 5]) --> 9\n",
        "    summer_69([4, 5, 6, 7, 8, 9]) --> 9\n",
        "    summer_69([2, 1, 6, 9, 11]) --> 14"
      ]
    },
    {
      "cell_type": "code",
      "source": [
        "def summer_69 (arr):\n",
        "  total_sum = 0\n",
        "  keeps_adding = True\n",
        "  for num in (arr):\n",
        "    if keeps_adding:\n",
        "      if num != 6:\n",
        "        total_sum += num\n",
        "      else:\n",
        "        keeps_adding = False\n",
        "    else:\n",
        "      if num == 9:\n",
        "        keeps_adding = True\n",
        "  return total_sum\n",
        "\n"
      ],
      "metadata": {
        "id": "KeMrf6hJrweV"
      },
      "execution_count": 7,
      "outputs": []
    },
    {
      "cell_type": "code",
      "execution_count": 8,
      "metadata": {
        "collapsed": true,
        "id": "BiPE0Hnjv8kr",
        "colab": {
          "base_uri": "https://localhost:8080/"
        },
        "outputId": "eae66fc9-403c-4ef7-f4e6-c06e0fc9bd4f"
      },
      "outputs": [
        {
          "output_type": "execute_result",
          "data": {
            "text/plain": [
              "9"
            ]
          },
          "metadata": {},
          "execution_count": 8
        }
      ],
      "source": [
        "# Check\n",
        "summer_69([1, 3, 5])"
      ]
    },
    {
      "cell_type": "code",
      "execution_count": 9,
      "metadata": {
        "collapsed": true,
        "id": "B3xqA-sYv8kr",
        "colab": {
          "base_uri": "https://localhost:8080/"
        },
        "outputId": "79d1f0af-a424-41be-b568-321b0d3d15a1"
      },
      "outputs": [
        {
          "output_type": "execute_result",
          "data": {
            "text/plain": [
              "9"
            ]
          },
          "metadata": {},
          "execution_count": 9
        }
      ],
      "source": [
        "# Check\n",
        "summer_69([4, 5, 6, 7, 8, 9])"
      ]
    },
    {
      "cell_type": "code",
      "execution_count": 10,
      "metadata": {
        "collapsed": true,
        "id": "mlnPTLFKv8kr",
        "outputId": "657e12f5-6c6d-4bc8-f5db-5c5d20972305",
        "colab": {
          "base_uri": "https://localhost:8080/"
        }
      },
      "outputs": [
        {
          "output_type": "execute_result",
          "data": {
            "text/plain": [
              "14"
            ]
          },
          "metadata": {},
          "execution_count": 10
        }
      ],
      "source": [
        "# Check\n",
        "summer_69([2, 1, 6, 9, 11])"
      ]
    },
    {
      "cell_type": "code",
      "execution_count": null,
      "metadata": {
        "collapsed": true,
        "id": "syag-BCav8kr"
      },
      "outputs": [],
      "source": [
        "def summer_69(arr):\n",
        "  current_loca = 0\n",
        "  total_sum = 0\n",
        "  for num in arr:\n",
        "    if num != 6:\n",
        "      total_sum += num\n",
        "    else:\n",
        "      if num != 9:\n",
        "        total_sum += 0\n",
        "      else:\n",
        "        total_sum += num+1\n",
        "  current_loca +=1\n",
        "  print(total_sum)"
      ]
    },
    {
      "cell_type": "code",
      "source": [],
      "metadata": {
        "id": "dRyu_KkQRkqw"
      },
      "execution_count": null,
      "outputs": []
    },
    {
      "cell_type": "code",
      "source": [
        "def summer_69(arr):\n",
        "  total_sum = 0\n",
        "  ignore = False\n",
        "  current_loca = 0\n",
        "  for num in arr:\n",
        "    if num == 6:\n",
        "      ignore = True\n",
        "    elif num == 9:\n",
        "      ignore = False\n",
        "      total_sum +=1\n",
        "    else:\n",
        "      total_sum += num\n",
        "  current_loca +=1\n",
        "  return total_sum"
      ],
      "metadata": {
        "id": "bdriQUj1opRS"
      },
      "execution_count": null,
      "outputs": []
    },
    {
      "cell_type": "code",
      "source": [
        "def summer_69(arr):\n",
        "  total_sum = 0\n",
        "  ignore = False\n",
        "  current_loca = 0\n",
        "  for num in arr:\n",
        "    if num == 6:\n",
        "      ignore = True\n",
        "    elif ignore == False:\n",
        "      total_sum += num\n",
        "    else:\n",
        "      total_sum += 0\n",
        "    elif num == 9:\n",
        "      ignore = False\n",
        "      total_sum +=1\n",
        "    else:\n",
        "      total_sum += num\n",
        "  current_loca +=1\n",
        "  return total_sum"
      ],
      "metadata": {
        "id": "RnPe9tCprO1p"
      },
      "execution_count": null,
      "outputs": []
    },
    {
      "cell_type": "markdown",
      "metadata": {
        "id": "UcS_8Iimv8kr"
      },
      "source": [
        "# CHALLENGING PROBLEMS"
      ]
    },
    {
      "cell_type": "markdown",
      "metadata": {
        "id": "E0gXvovJv8kr"
      },
      "source": [
        "#### SPY GAME: Write a function that takes in a list of integers and returns True if it contains 007 in order\n",
        "\n",
        "     spy_game([1,2,4,0,0,7,5]) --> True\n",
        "     spy_game([1,0,2,4,0,5,7]) --> True\n",
        "     spy_game([1,7,2,0,4,5,0]) --> False\n"
      ]
    },
    {
      "cell_type": "code",
      "execution_count": null,
      "metadata": {
        "collapsed": true,
        "id": "jj-ywxT4v8kr"
      },
      "outputs": [],
      "source": [
        "def spy_game(nums):\n",
        "    pass"
      ]
    },
    {
      "cell_type": "code",
      "execution_count": null,
      "metadata": {
        "collapsed": true,
        "id": "3g6-p1yWv8kr"
      },
      "outputs": [],
      "source": [
        "# Check\n",
        "spy_game([1,2,4,0,0,7,5])"
      ]
    },
    {
      "cell_type": "code",
      "execution_count": null,
      "metadata": {
        "collapsed": true,
        "id": "dyHv07HVv8kr"
      },
      "outputs": [],
      "source": [
        "# Check\n",
        "spy_game([1,0,2,4,0,5,7])"
      ]
    },
    {
      "cell_type": "code",
      "execution_count": null,
      "metadata": {
        "collapsed": true,
        "id": "9qib-t5Fv8ks"
      },
      "outputs": [],
      "source": [
        "# Check\n",
        "spy_game([1,7,2,0,4,5,0])"
      ]
    },
    {
      "cell_type": "markdown",
      "metadata": {
        "id": "sXK70aazv8ks"
      },
      "source": [
        "#### COUNT PRIMES: Write a function that returns the *number* of prime numbers that exist up to and including a given number\n",
        "    count_primes(100) --> 25\n",
        "\n",
        "By convention, 0 and 1 are not prime."
      ]
    },
    {
      "cell_type": "code",
      "execution_count": null,
      "metadata": {
        "collapsed": true,
        "id": "T5Yfxnlxv8ks"
      },
      "outputs": [],
      "source": [
        "def count_primes(num):\n",
        "    pass\n"
      ]
    },
    {
      "cell_type": "code",
      "execution_count": null,
      "metadata": {
        "collapsed": true,
        "id": "N0tTabMnv8ks"
      },
      "outputs": [],
      "source": [
        "# Check\n",
        "count_primes(100)"
      ]
    },
    {
      "cell_type": "markdown",
      "metadata": {
        "id": "xS8jVSVRv8ks"
      },
      "source": [
        "### Just for fun:\n",
        "#### PRINT BIG: Write a function that takes in a single letter, and returns a 5x5 representation of that letter\n",
        "    print_big('a')\n",
        "    \n",
        "    out:   *  \n",
        "          * *\n",
        "         *****\n",
        "         *   *\n",
        "         *   *\n",
        "HINT: Consider making a dictionary of possible patterns, and mapping the alphabet to specific 5-line combinations of patterns. <br>For purposes of this exercise, it's ok if your dictionary stops at \"E\"."
      ]
    },
    {
      "cell_type": "code",
      "execution_count": null,
      "metadata": {
        "collapsed": true,
        "id": "iNjLwRnVv8ks"
      },
      "outputs": [],
      "source": [
        "def print_big(letter):\n",
        "    pass"
      ]
    },
    {
      "cell_type": "code",
      "execution_count": null,
      "metadata": {
        "collapsed": true,
        "id": "yujd_J4Fv8ks"
      },
      "outputs": [],
      "source": [
        "print_big('a')"
      ]
    },
    {
      "cell_type": "markdown",
      "metadata": {
        "id": "vz6YbsyIv8ks"
      },
      "source": [
        "## Great Job!"
      ]
    }
  ],
  "metadata": {
    "kernelspec": {
      "display_name": "Python 3",
      "language": "python",
      "name": "python3"
    },
    "language_info": {
      "codemirror_mode": {
        "name": "ipython",
        "version": 3
      },
      "file_extension": ".py",
      "mimetype": "text/x-python",
      "name": "python",
      "nbconvert_exporter": "python",
      "pygments_lexer": "ipython3",
      "version": "3.6.6"
    },
    "colab": {
      "provenance": []
    }
  },
  "nbformat": 4,
  "nbformat_minor": 0
}
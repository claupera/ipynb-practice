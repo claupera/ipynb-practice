{
  "cells": [
    {
      "cell_type": "markdown",
      "metadata": {
        "id": "-APdJajUKOED"
      },
      "source": [
        "<a href=\"https://www.hydroffice.org/epom/\"><img src=\"https://github.com/claupera/ipynb-practice/blob/main/images/000_000_epom_logo.png?raw=1\" alt=\"ePOM\" title=\"Open ePOM home page\" align=\"center\" width=\"12%\" alt=\"Python logo\\\"></a>"
      ]
    },
    {
      "cell_type": "markdown",
      "metadata": {
        "id": "WWnqjEtrKOEF"
      },
      "source": [
        "<a href=\"https://piazza.com/class/js5dnu0q39n6qe\"><img src=\"https://github.com/claupera/ipynb-practice/blob/main/images/help.png?raw=1\" alt=\"ePOM\" title=\"Ask questions on Piazza.com\" align=\"right\" width=\"10%\" alt=\"Piazza.com\\\"></a>\n",
        "# Title"
      ]
    },
    {
      "cell_type": "code",
      "source": [
        "mylist = [1,2,3]\n"
      ],
      "metadata": {
        "id": "RDlp7NlZ9swF"
      },
      "execution_count": null,
      "outputs": []
    },
    {
      "cell_type": "code",
      "source": [
        "#these are examples of methods I've already"
      ],
      "metadata": {
        "id": "QRZye_Dm-FCy"
      },
      "execution_count": null,
      "outputs": []
    },
    {
      "cell_type": "code",
      "source": [
        "mylist.append(4)"
      ],
      "metadata": {
        "id": "1CY8Aqk3-T5K"
      },
      "execution_count": null,
      "outputs": []
    },
    {
      "cell_type": "code",
      "source": [
        "mylist"
      ],
      "metadata": {
        "id": "fMTh7BLD-VQK",
        "outputId": "7a14c3c0-f60d-4d2d-ecff-6cba536d4bd2",
        "colab": {
          "base_uri": "https://localhost:8080/"
        }
      },
      "execution_count": null,
      "outputs": [
        {
          "output_type": "execute_result",
          "data": {
            "text/plain": [
              "[1, 2, 3, 4]"
            ]
          },
          "metadata": {},
          "execution_count": 4
        }
      ]
    },
    {
      "cell_type": "code",
      "source": [
        "#this removes the last item of the list\n",
        "mylist.pop()"
      ],
      "metadata": {
        "id": "-LrXwZ72-VnL",
        "outputId": "6ca56457-0708-4b9f-d358-839fe8ee5745",
        "colab": {
          "base_uri": "https://localhost:8080/"
        }
      },
      "execution_count": null,
      "outputs": [
        {
          "output_type": "execute_result",
          "data": {
            "text/plain": [
              "4"
            ]
          },
          "metadata": {},
          "execution_count": 5
        }
      ]
    },
    {
      "cell_type": "code",
      "source": [
        "mylist"
      ],
      "metadata": {
        "id": "7OKJg2ao-XIq",
        "outputId": "8517583e-f8c0-400f-e28c-134b401c3acf",
        "colab": {
          "base_uri": "https://localhost:8080/"
        }
      },
      "execution_count": null,
      "outputs": [
        {
          "output_type": "execute_result",
          "data": {
            "text/plain": [
              "[1, 2, 3]"
            ]
          },
          "metadata": {},
          "execution_count": 6
        }
      ]
    },
    {
      "cell_type": "code",
      "source": [
        "mylist.reverse()"
      ],
      "metadata": {
        "id": "95ANSdGh-Xg6"
      },
      "execution_count": null,
      "outputs": []
    },
    {
      "cell_type": "code",
      "source": [
        "mylist"
      ],
      "metadata": {
        "id": "qhZmjnGx_bwk",
        "outputId": "43f79dd4-d79b-467a-9d42-326bc382ace9",
        "colab": {
          "base_uri": "https://localhost:8080/"
        }
      },
      "execution_count": null,
      "outputs": [
        {
          "output_type": "execute_result",
          "data": {
            "text/plain": [
              "[3, 2, 1]"
            ]
          },
          "metadata": {},
          "execution_count": 9
        }
      ]
    },
    {
      "cell_type": "code",
      "source": [
        "mylist.reverse()"
      ],
      "metadata": {
        "id": "eSuyBRES_dhT"
      },
      "execution_count": null,
      "outputs": []
    },
    {
      "cell_type": "code",
      "source": [
        "mylist"
      ],
      "metadata": {
        "id": "-aTWjFVP_gEE",
        "outputId": "bd86f6bd-2e78-45dc-b24b-743f4858c59a",
        "colab": {
          "base_uri": "https://localhost:8080/"
        }
      },
      "execution_count": null,
      "outputs": [
        {
          "output_type": "execute_result",
          "data": {
            "text/plain": [
              "[1, 2, 3]"
            ]
          },
          "metadata": {},
          "execution_count": 12
        }
      ]
    },
    {
      "cell_type": "code",
      "source": [
        "help(mylist.insert)"
      ],
      "metadata": {
        "id": "a8xiG_rg_iQU",
        "outputId": "7b07dac0-a26d-488c-d31d-36ab9712d029",
        "colab": {
          "base_uri": "https://localhost:8080/"
        }
      },
      "execution_count": null,
      "outputs": [
        {
          "output_type": "stream",
          "name": "stdout",
          "text": [
            "Help on built-in function insert:\n",
            "\n",
            "insert(index, object, /) method of builtins.list instance\n",
            "    Insert object before index.\n",
            "\n"
          ]
        }
      ]
    },
    {
      "cell_type": "code",
      "source": [
        "def name_of_function():\n",
        "  \"this is my first function. It will print hello\"\n",
        "  print(\"hello\")"
      ],
      "metadata": {
        "id": "I0n6oy5b_l4N"
      },
      "execution_count": null,
      "outputs": []
    },
    {
      "cell_type": "code",
      "source": [
        "name_of_function()"
      ],
      "metadata": {
        "id": "htep1--iDgRh",
        "outputId": "55f397cc-6c87-4be6-c5ed-725896e53b9b",
        "colab": {
          "base_uri": "https://localhost:8080/"
        }
      },
      "execution_count": null,
      "outputs": [
        {
          "output_type": "stream",
          "name": "stdout",
          "text": [
            "hello\n"
          ]
        }
      ]
    },
    {
      "cell_type": "code",
      "source": [
        "# DANIEL - diferencia entre +name y f string. Pinta que a Dincho le va a gustar mas la f string.............."
      ],
      "metadata": {
        "id": "qvaZerSGGth0"
      },
      "execution_count": null,
      "outputs": []
    },
    {
      "cell_type": "code",
      "source": [
        "def name_of_function(name):\n",
        "  \"This will print hello and a name that the user inputs (a variable)\"\n",
        "  print(\"Hello \"+name)"
      ],
      "metadata": {
        "id": "3ZBOvBDNDv4h"
      },
      "execution_count": null,
      "outputs": []
    },
    {
      "cell_type": "code",
      "source": [
        "name_of_function(\"Pedrito\")"
      ],
      "metadata": {
        "id": "cA9cEAo7Dhio",
        "outputId": "2becb4fc-6de8-421c-a579-0a03f36c6975",
        "colab": {
          "base_uri": "https://localhost:8080/"
        }
      },
      "execution_count": null,
      "outputs": [
        {
          "output_type": "stream",
          "name": "stdout",
          "text": [
            "Hello Pedrito\n"
          ]
        }
      ]
    },
    {
      "cell_type": "code",
      "source": [
        "# the main difference between print and return, is that with return we can save to a varaible"
      ],
      "metadata": {
        "id": "QYWUFs2dFDb6"
      },
      "execution_count": null,
      "outputs": []
    },
    {
      "cell_type": "code",
      "source": [
        "def add_function(num1,num2):\n",
        "  \"This function will add two numbers\"\n",
        "  return num1+num2"
      ],
      "metadata": {
        "id": "h0JI2lUpD_sc"
      },
      "execution_count": null,
      "outputs": []
    },
    {
      "cell_type": "code",
      "source": [
        "result = add_function(1,2)"
      ],
      "metadata": {
        "id": "-MC76GwxEx1J"
      },
      "execution_count": null,
      "outputs": []
    },
    {
      "cell_type": "code",
      "source": [
        "result"
      ],
      "metadata": {
        "id": "vJNxQN0oE0lg",
        "outputId": "47627289-fce1-41a5-e52d-9ddb80031867",
        "colab": {
          "base_uri": "https://localhost:8080/"
        }
      },
      "execution_count": null,
      "outputs": [
        {
          "output_type": "execute_result",
          "data": {
            "text/plain": [
              "3"
            ]
          },
          "metadata": {},
          "execution_count": 30
        }
      ]
    },
    {
      "cell_type": "markdown",
      "source": [
        "44. Basics of Python functions"
      ],
      "metadata": {
        "id": "oW-BG46pFj9l"
      }
    },
    {
      "cell_type": "code",
      "source": [
        "def say_hello():\n",
        "  print(\"hello\")\n",
        "  print (\"are\")\n",
        "  print(\"you\")"
      ],
      "metadata": {
        "id": "eEIKfTSUE1FI"
      },
      "execution_count": null,
      "outputs": []
    },
    {
      "cell_type": "code",
      "source": [
        "say_hello()"
      ],
      "metadata": {
        "id": "5xj1orhGFx9l",
        "outputId": "ce249f9c-4ba9-4f58-8dad-3aabaac1d880",
        "colab": {
          "base_uri": "https://localhost:8080/"
        }
      },
      "execution_count": null,
      "outputs": [
        {
          "output_type": "stream",
          "name": "stdout",
          "text": [
            "hello\n",
            "are\n",
            "you\n"
          ]
        }
      ]
    },
    {
      "cell_type": "code",
      "source": [
        "say_hello"
      ],
      "metadata": {
        "id": "UizGa_g-FzEX",
        "outputId": "cf76c136-5408-49e5-95cf-b163fcd19f87",
        "colab": {
          "base_uri": "https://localhost:8080/",
          "height": 104
        }
      },
      "execution_count": null,
      "outputs": [
        {
          "output_type": "execute_result",
          "data": {
            "text/plain": [
              "<function __main__.say_hello()>"
            ],
            "text/html": [
              "<div style=\"max-width:800px; border: 1px solid var(--colab-border-color);\"><style>\n",
              "      pre.function-repr-contents {\n",
              "        overflow-x: auto;\n",
              "        padding: 8px 12px;\n",
              "        max-height: 500px;\n",
              "      }\n",
              "\n",
              "      pre.function-repr-contents.function-repr-contents-collapsed {\n",
              "        cursor: pointer;\n",
              "        max-height: 100px;\n",
              "      }\n",
              "    </style>\n",
              "    <pre style=\"white-space: initial; background:\n",
              "         var(--colab-secondary-surface-color); padding: 8px 12px;\n",
              "         border-bottom: 1px solid var(--colab-border-color);\"><b>say_hello</b><br/>def say_hello()</pre><pre class=\"function-repr-contents function-repr-contents-collapsed\" style=\"\"><a class=\"filepath\" style=\"display:none\" href=\"#\">/content/&lt;ipython-input-34-c7abc391399b&gt;</a>&lt;no docstring&gt;</pre></div>"
            ]
          },
          "metadata": {},
          "execution_count": 36
        }
      ]
    },
    {
      "cell_type": "code",
      "source": [
        "def say_hello(name):\n",
        "  print(f\"hello {name}\")"
      ],
      "metadata": {
        "id": "T0_tOf8eF7Un"
      },
      "execution_count": null,
      "outputs": []
    },
    {
      "cell_type": "code",
      "source": [
        "say_hello(\"claudia\")"
      ],
      "metadata": {
        "id": "o42nESkXGScJ",
        "outputId": "74e2af88-57d0-48aa-ce0c-c4d06a262bb0",
        "colab": {
          "base_uri": "https://localhost:8080/"
        }
      },
      "execution_count": null,
      "outputs": [
        {
          "output_type": "stream",
          "name": "stdout",
          "text": [
            "hello claudia\n"
          ]
        }
      ]
    },
    {
      "cell_type": "code",
      "source": [
        "#reminder that we can call variables whatever we want, it just has to match. So generally just provide variables that make sense to me"
      ],
      "metadata": {
        "id": "-plQ63jwGUHJ"
      },
      "execution_count": null,
      "outputs": []
    },
    {
      "cell_type": "code",
      "source": [
        "def say_hello(jelly):\n",
        "  print(f\"hello {jelly}\")"
      ],
      "metadata": {
        "id": "i_StvHB2Gavi"
      },
      "execution_count": null,
      "outputs": []
    },
    {
      "cell_type": "code",
      "source": [
        "say_hello(\"claudia\")"
      ],
      "metadata": {
        "id": "PLAkJG-EGesj",
        "outputId": "0ed08b59-e3c0-4f6d-b7b5-fe938fbbd7ce",
        "colab": {
          "base_uri": "https://localhost:8080/"
        }
      },
      "execution_count": null,
      "outputs": [
        {
          "output_type": "stream",
          "name": "stdout",
          "text": [
            "hello claudia\n"
          ]
        }
      ]
    },
    {
      "cell_type": "code",
      "source": [
        "#we can have a default name, then if the user doesn't input any variable, it will still run instead of giving an error"
      ],
      "metadata": {
        "id": "j7GhQ9x_GgHR"
      },
      "execution_count": null,
      "outputs": []
    },
    {
      "cell_type": "code",
      "source": [
        "def say_hello(name=\"Default\"):\n",
        "  print(f\"Hello {name}\")"
      ],
      "metadata": {
        "id": "BY31c_LSG_7V"
      },
      "execution_count": null,
      "outputs": []
    },
    {
      "cell_type": "code",
      "source": [
        "say_hello(\"Claudia\")"
      ],
      "metadata": {
        "id": "2G_bG2KPHGte",
        "outputId": "180907e4-bed5-452c-eb7d-0d5c4baa96dd",
        "colab": {
          "base_uri": "https://localhost:8080/"
        }
      },
      "execution_count": null,
      "outputs": [
        {
          "output_type": "stream",
          "name": "stdout",
          "text": [
            "Hello Claudia\n"
          ]
        }
      ]
    },
    {
      "cell_type": "code",
      "source": [
        "say_hello()"
      ],
      "metadata": {
        "id": "jRt1JBd0HI3W",
        "outputId": "92cb07b9-16fc-4a88-9235-1ade32210fae",
        "colab": {
          "base_uri": "https://localhost:8080/"
        }
      },
      "execution_count": null,
      "outputs": [
        {
          "output_type": "stream",
          "name": "stdout",
          "text": [
            "Hello Default\n"
          ]
        }
      ]
    },
    {
      "cell_type": "code",
      "source": [
        "def add_num(num1,num2):\n",
        "  return num1+num2"
      ],
      "metadata": {
        "id": "cdJKGWstHJ1O"
      },
      "execution_count": null,
      "outputs": []
    },
    {
      "cell_type": "code",
      "source": [
        "add_num(10,20)"
      ],
      "metadata": {
        "id": "lFWShsROHysi",
        "outputId": "0d66e1a4-8ba6-48ed-eca6-60372c03f319",
        "colab": {
          "base_uri": "https://localhost:8080/"
        }
      },
      "execution_count": null,
      "outputs": [
        {
          "output_type": "execute_result",
          "data": {
            "text/plain": [
              "30"
            ]
          },
          "metadata": {},
          "execution_count": 50
        }
      ]
    },
    {
      "cell_type": "code",
      "source": [
        "result= add_num(10,20)"
      ],
      "metadata": {
        "id": "-i1AEXgOH0Cq"
      },
      "execution_count": null,
      "outputs": []
    },
    {
      "cell_type": "code",
      "source": [
        "print(result)"
      ],
      "metadata": {
        "id": "BhGN3SJ0H3pS",
        "outputId": "1e53e9bf-3c35-4af4-f207-45537242b83e",
        "colab": {
          "base_uri": "https://localhost:8080/"
        }
      },
      "execution_count": null,
      "outputs": [
        {
          "output_type": "stream",
          "name": "stdout",
          "text": [
            "30\n"
          ]
        }
      ]
    },
    {
      "cell_type": "code",
      "source": [
        "def print_result(a,b):\n",
        "  print(a+b)"
      ],
      "metadata": {
        "id": "F1z_O52QH4hy"
      },
      "execution_count": null,
      "outputs": []
    },
    {
      "cell_type": "code",
      "source": [
        "def return_result(a,b):\n",
        "  return a+b"
      ],
      "metadata": {
        "id": "ea__fzxOH-i7"
      },
      "execution_count": null,
      "outputs": []
    },
    {
      "cell_type": "code",
      "source": [
        "print_result(10,20)"
      ],
      "metadata": {
        "id": "hwMePzOcIByE",
        "outputId": "ebb27023-a2c4-403c-928d-4ae6c7833067",
        "colab": {
          "base_uri": "https://localhost:8080/"
        }
      },
      "execution_count": null,
      "outputs": [
        {
          "output_type": "stream",
          "name": "stdout",
          "text": [
            "30\n"
          ]
        }
      ]
    },
    {
      "cell_type": "code",
      "source": [
        "result=print_result"
      ],
      "metadata": {
        "id": "JjwFEeHOIJON"
      },
      "execution_count": null,
      "outputs": []
    },
    {
      "cell_type": "code",
      "source": [
        "result"
      ],
      "metadata": {
        "id": "Wx0ZkeyBINel",
        "outputId": "b76ea7b5-b3bb-403f-9a84-ba7e4ec5ec9a",
        "colab": {
          "base_uri": "https://localhost:8080/",
          "height": 104
        }
      },
      "execution_count": null,
      "outputs": [
        {
          "output_type": "execute_result",
          "data": {
            "text/plain": [
              "<function __main__.print_result(a, b)>"
            ],
            "text/html": [
              "<div style=\"max-width:800px; border: 1px solid var(--colab-border-color);\"><style>\n",
              "      pre.function-repr-contents {\n",
              "        overflow-x: auto;\n",
              "        padding: 8px 12px;\n",
              "        max-height: 500px;\n",
              "      }\n",
              "\n",
              "      pre.function-repr-contents.function-repr-contents-collapsed {\n",
              "        cursor: pointer;\n",
              "        max-height: 100px;\n",
              "      }\n",
              "    </style>\n",
              "    <pre style=\"white-space: initial; background:\n",
              "         var(--colab-secondary-surface-color); padding: 8px 12px;\n",
              "         border-bottom: 1px solid var(--colab-border-color);\"><b>print_result</b><br/>def print_result(a, b)</pre><pre class=\"function-repr-contents function-repr-contents-collapsed\" style=\"\"><a class=\"filepath\" style=\"display:none\" href=\"#\">/content/&lt;ipython-input-53-b2a794793cb8&gt;</a>&lt;no docstring&gt;</pre></div>"
            ]
          },
          "metadata": {},
          "execution_count": 70
        }
      ]
    },
    {
      "cell_type": "code",
      "source": [
        "# esto al del curso le da que type is nonetype"
      ],
      "metadata": {
        "id": "daRD6ouFIX_u"
      },
      "execution_count": null,
      "outputs": []
    },
    {
      "cell_type": "code",
      "source": [
        "type(result)"
      ],
      "metadata": {
        "id": "kbo3qYf6IQEV",
        "outputId": "92cd6a71-56b4-478b-b7b5-0949472d12e8",
        "colab": {
          "base_uri": "https://localhost:8080/"
        }
      },
      "execution_count": null,
      "outputs": [
        {
          "output_type": "execute_result",
          "data": {
            "text/plain": [
              "function"
            ]
          },
          "metadata": {},
          "execution_count": 72
        }
      ]
    },
    {
      "cell_type": "code",
      "source": [
        "return_result(10,20)"
      ],
      "metadata": {
        "id": "pSxR2P9sIE48",
        "outputId": "b908bc93-609c-48bb-dbce-67ae8ea8f0e9",
        "colab": {
          "base_uri": "https://localhost:8080/"
        }
      },
      "execution_count": null,
      "outputs": [
        {
          "output_type": "execute_result",
          "data": {
            "text/plain": [
              "30"
            ]
          },
          "metadata": {},
          "execution_count": 73
        }
      ]
    },
    {
      "cell_type": "code",
      "source": [
        "result=return_result(10,20)"
      ],
      "metadata": {
        "id": "NDkLjVp_IHTs"
      },
      "execution_count": null,
      "outputs": []
    },
    {
      "cell_type": "code",
      "source": [
        "print(result)"
      ],
      "metadata": {
        "id": "82Zyl-U6IfmO",
        "outputId": "a2641ac1-3083-418e-c68d-ba8d01cd4c76",
        "colab": {
          "base_uri": "https://localhost:8080/"
        }
      },
      "execution_count": null,
      "outputs": [
        {
          "output_type": "stream",
          "name": "stdout",
          "text": [
            "30\n"
          ]
        }
      ]
    },
    {
      "cell_type": "code",
      "source": [
        "#it's not common, but we can use print and return together"
      ],
      "metadata": {
        "id": "sacQbTf2IgDW"
      },
      "execution_count": null,
      "outputs": []
    },
    {
      "cell_type": "code",
      "source": [
        "def my_func(a,b):\n",
        "  print(a+b)\n",
        "  return a+b"
      ],
      "metadata": {
        "id": "9gr2Sf7LI5wa"
      },
      "execution_count": null,
      "outputs": []
    },
    {
      "cell_type": "code",
      "source": [
        "result=my_func(1,1)"
      ],
      "metadata": {
        "id": "N9Jfv4I7JB_6",
        "outputId": "3f77c487-af02-4cbb-ffea-e6e7e900f53b",
        "colab": {
          "base_uri": "https://localhost:8080/"
        }
      },
      "execution_count": null,
      "outputs": [
        {
          "output_type": "stream",
          "name": "stdout",
          "text": [
            "2\n"
          ]
        }
      ]
    },
    {
      "cell_type": "code",
      "source": [
        "result"
      ],
      "metadata": {
        "id": "_Vz-oyJoJDZ6",
        "outputId": "6d0cb40a-4c96-4980-c37a-09404035f7f8",
        "colab": {
          "base_uri": "https://localhost:8080/"
        }
      },
      "execution_count": null,
      "outputs": [
        {
          "output_type": "execute_result",
          "data": {
            "text/plain": [
              "2"
            ]
          },
          "metadata": {},
          "execution_count": 82
        }
      ]
    },
    {
      "cell_type": "code",
      "source": [
        "def sum_numbers(num1,num2):\n",
        "  return num1+num2"
      ],
      "metadata": {
        "id": "FpZJGlwhJQZ0"
      },
      "execution_count": null,
      "outputs": []
    },
    {
      "cell_type": "code",
      "source": [
        "sum_numbers(\"a\",\"b\")"
      ],
      "metadata": {
        "id": "16pLkV_MJa6e",
        "outputId": "b5450e9f-75f2-45ee-c2c5-a308fd7f0589",
        "colab": {
          "base_uri": "https://localhost:8080/",
          "height": 35
        }
      },
      "execution_count": null,
      "outputs": [
        {
          "output_type": "execute_result",
          "data": {
            "text/plain": [
              "'ab'"
            ],
            "application/vnd.google.colaboratory.intrinsic+json": {
              "type": "string"
            }
          },
          "metadata": {},
          "execution_count": 85
        }
      ]
    },
    {
      "cell_type": "code",
      "source": [
        "sum_numbers(\"1\",\"2\")"
      ],
      "metadata": {
        "id": "Ew2sSdkyJh4W",
        "outputId": "c80aac0c-b04d-47f7-f774-d35e8b479740",
        "colab": {
          "base_uri": "https://localhost:8080/",
          "height": 35
        }
      },
      "execution_count": null,
      "outputs": [
        {
          "output_type": "execute_result",
          "data": {
            "text/plain": [
              "'12'"
            ],
            "application/vnd.google.colaboratory.intrinsic+json": {
              "type": "string"
            }
          },
          "metadata": {},
          "execution_count": 87
        }
      ]
    },
    {
      "cell_type": "code",
      "source": [
        "input ()"
      ],
      "metadata": {
        "id": "dmAAtF1BJpGe",
        "outputId": "3f0273fb-7ac5-4234-9e28-3a728e03cc43",
        "colab": {
          "base_uri": "https://localhost:8080/",
          "height": 53
        }
      },
      "execution_count": null,
      "outputs": [
        {
          "name": "stdout",
          "output_type": "stream",
          "text": [
            "10\n"
          ]
        },
        {
          "output_type": "execute_result",
          "data": {
            "text/plain": [
              "'10'"
            ],
            "application/vnd.google.colaboratory.intrinsic+json": {
              "type": "string"
            }
          },
          "metadata": {},
          "execution_count": 88
        }
      ]
    },
    {
      "cell_type": "code",
      "source": [
        "sum_numbers(input,input)"
      ],
      "metadata": {
        "id": "1u4Phw9uJywo",
        "outputId": "9666b09d-c3aa-47b0-e0a2-92d209469a33",
        "colab": {
          "base_uri": "https://localhost:8080/",
          "height": 211
        }
      },
      "execution_count": null,
      "outputs": [
        {
          "output_type": "error",
          "ename": "TypeError",
          "evalue": "unsupported operand type(s) for +: 'method' and 'method'",
          "traceback": [
            "\u001b[0;31m---------------------------------------------------------------------------\u001b[0m",
            "\u001b[0;31mTypeError\u001b[0m                                 Traceback (most recent call last)",
            "\u001b[0;32m<ipython-input-90-d0123ad4244e>\u001b[0m in \u001b[0;36m<cell line: 1>\u001b[0;34m()\u001b[0m\n\u001b[0;32m----> 1\u001b[0;31m \u001b[0msum_numbers\u001b[0m\u001b[0;34m(\u001b[0m\u001b[0minput\u001b[0m\u001b[0;34m,\u001b[0m\u001b[0minput\u001b[0m\u001b[0;34m)\u001b[0m\u001b[0;34m\u001b[0m\u001b[0;34m\u001b[0m\u001b[0m\n\u001b[0m",
            "\u001b[0;32m<ipython-input-83-b8ef8b570fea>\u001b[0m in \u001b[0;36msum_numbers\u001b[0;34m(num1, num2)\u001b[0m\n\u001b[1;32m      1\u001b[0m \u001b[0;32mdef\u001b[0m \u001b[0msum_numbers\u001b[0m\u001b[0;34m(\u001b[0m\u001b[0mnum1\u001b[0m\u001b[0;34m,\u001b[0m\u001b[0mnum2\u001b[0m\u001b[0;34m)\u001b[0m\u001b[0;34m:\u001b[0m\u001b[0;34m\u001b[0m\u001b[0;34m\u001b[0m\u001b[0m\n\u001b[0;32m----> 2\u001b[0;31m   \u001b[0;32mreturn\u001b[0m \u001b[0mnum1\u001b[0m\u001b[0;34m+\u001b[0m\u001b[0mnum2\u001b[0m\u001b[0;34m\u001b[0m\u001b[0;34m\u001b[0m\u001b[0m\n\u001b[0m",
            "\u001b[0;31mTypeError\u001b[0m: unsupported operand type(s) for +: 'method' and 'method'"
          ]
        }
      ]
    },
    {
      "cell_type": "code",
      "source": [
        "def sum_numbers_user():\n",
        "  num1= float(input(\"Enter number 1: \"))\n",
        "  num2= float(input(\"Enter number 2:\"))\n",
        "  num3= float(input(\"Enter number 3: \"))\n",
        "  return num1+num2+num3"
      ],
      "metadata": {
        "id": "PskjV2RwJ1jZ"
      },
      "execution_count": null,
      "outputs": []
    },
    {
      "cell_type": "code",
      "source": [
        "sum_numbers_user()"
      ],
      "metadata": {
        "id": "6JembqbQKj2l",
        "outputId": "d4af73fd-4912-40cb-ef9f-99935d97cb0d",
        "colab": {
          "base_uri": "https://localhost:8080/"
        }
      },
      "execution_count": null,
      "outputs": [
        {
          "name": "stdout",
          "output_type": "stream",
          "text": [
            "Enter number 1: 1.2\n",
            "Enter number 2:0.3\n",
            "Enter number 3: 0.4\n"
          ]
        },
        {
          "output_type": "execute_result",
          "data": {
            "text/plain": [
              "1.9"
            ]
          },
          "metadata": {},
          "execution_count": 101
        }
      ]
    },
    {
      "cell_type": "code",
      "source": [
        "def say_hello_user():\n",
        "  name=input(\"What is your name?:\")\n",
        "  return f\"Hello {name}\""
      ],
      "metadata": {
        "id": "qfNV3ZyQKlz3"
      },
      "execution_count": null,
      "outputs": []
    },
    {
      "cell_type": "code",
      "source": [
        "say_hello_user()"
      ],
      "metadata": {
        "id": "W9Q32AK6LaQN",
        "outputId": "1134969e-a813-4e4a-ca57-cf0cf0720053",
        "colab": {
          "base_uri": "https://localhost:8080/",
          "height": 53
        }
      },
      "execution_count": null,
      "outputs": [
        {
          "name": "stdout",
          "output_type": "stream",
          "text": [
            "What is your name?:Claudia\n"
          ]
        },
        {
          "output_type": "execute_result",
          "data": {
            "text/plain": [
              "'Hello Claudia'"
            ],
            "application/vnd.google.colaboratory.intrinsic+json": {
              "type": "string"
            }
          },
          "metadata": {},
          "execution_count": 105
        }
      ]
    },
    {
      "cell_type": "code",
      "source": [
        "# 45. Logic with Python functions"
      ],
      "metadata": {
        "id": "BPmFxj3ELcB0"
      },
      "execution_count": 87,
      "outputs": []
    },
    {
      "cell_type": "code",
      "source": [
        " #return if a number is even\n"
      ],
      "metadata": {
        "id": "KSpgfMd5JkPB"
      },
      "execution_count": 88,
      "outputs": []
    },
    {
      "cell_type": "code",
      "source": [
        "def check_even(number):\n",
        "  if number%2==0:\n",
        "    return True\n",
        "  else:\n",
        "    return False"
      ],
      "metadata": {
        "id": "j-R_hKyKJsCM"
      },
      "execution_count": 96,
      "outputs": []
    },
    {
      "cell_type": "code",
      "source": [
        "check_even(4)"
      ],
      "metadata": {
        "id": "8-tTL4BpJ1wa",
        "outputId": "b3c3b5f2-c9d2-4162-d396-10d6eae50fec",
        "colab": {
          "base_uri": "https://localhost:8080/"
        }
      },
      "execution_count": 97,
      "outputs": [
        {
          "output_type": "execute_result",
          "data": {
            "text/plain": [
              "True"
            ]
          },
          "metadata": {},
          "execution_count": 97
        }
      ]
    },
    {
      "cell_type": "code",
      "source": [
        "check_even(3)"
      ],
      "metadata": {
        "id": "0B7n8c2eKQ5P",
        "outputId": "92095f90-0d14-441d-b2f0-8b27a91e68ae",
        "colab": {
          "base_uri": "https://localhost:8080/"
        }
      },
      "execution_count": 98,
      "outputs": [
        {
          "output_type": "execute_result",
          "data": {
            "text/plain": [
              "False"
            ]
          },
          "metadata": {},
          "execution_count": 98
        }
      ]
    },
    {
      "cell_type": "code",
      "source": [
        "check_even(3)"
      ],
      "metadata": {
        "id": "-6BmerrhJ4bv"
      },
      "execution_count": 91,
      "outputs": []
    },
    {
      "cell_type": "code",
      "source": [
        "def check_even(number):\n",
        "  return number%2==0"
      ],
      "metadata": {
        "id": "LiN6b4KbJ561"
      },
      "execution_count": 93,
      "outputs": []
    },
    {
      "cell_type": "code",
      "source": [
        "check_even(2)"
      ],
      "metadata": {
        "id": "WJprCuMGJ-Ws",
        "outputId": "17a883cc-0b17-4ac4-974f-6fdad25c52d6",
        "colab": {
          "base_uri": "https://localhost:8080/"
        }
      },
      "execution_count": 94,
      "outputs": [
        {
          "output_type": "execute_result",
          "data": {
            "text/plain": [
              "True"
            ]
          },
          "metadata": {},
          "execution_count": 94
        }
      ]
    },
    {
      "cell_type": "code",
      "source": [
        "check_even(3)"
      ],
      "metadata": {
        "id": "z_3XsWDLKK7g",
        "outputId": "13bd5bac-f171-45af-c27c-f7d4dbbfb410",
        "colab": {
          "base_uri": "https://localhost:8080/"
        }
      },
      "execution_count": 95,
      "outputs": [
        {
          "output_type": "execute_result",
          "data": {
            "text/plain": [
              "False"
            ]
          },
          "metadata": {},
          "execution_count": 95
        }
      ]
    },
    {
      "cell_type": "code",
      "source": [
        "# function to return true if any number is even inside a list"
      ],
      "metadata": {
        "id": "H2ahS0ceKMmc"
      },
      "execution_count": 99,
      "outputs": []
    },
    {
      "cell_type": "code",
      "source": [
        "def check_list_even(mylist):\n",
        "  for number in mylist:\n",
        "    if number % 2 == 0:\n",
        "      return True\n",
        "  else:\n",
        "    pass"
      ],
      "metadata": {
        "id": "W2Y0vWswKcD1"
      },
      "execution_count": 107,
      "outputs": []
    },
    {
      "cell_type": "code",
      "source": [
        "check_list_even([1,2,3])"
      ],
      "metadata": {
        "id": "DUbviXPkLKt7",
        "outputId": "2bbdbb97-9b4e-450e-da72-878ec1ecbd03",
        "colab": {
          "base_uri": "https://localhost:8080/"
        }
      },
      "execution_count": 109,
      "outputs": [
        {
          "output_type": "execute_result",
          "data": {
            "text/plain": [
              "True"
            ]
          },
          "metadata": {},
          "execution_count": 109
        }
      ]
    },
    {
      "cell_type": "code",
      "source": [
        "#RETURN all the even numbers in a list"
      ],
      "metadata": {
        "id": "1dn6PSXHL5B-"
      },
      "execution_count": null,
      "outputs": []
    },
    {
      "cell_type": "code",
      "source": [
        "def check_all_even(mylist):\n",
        "  even_numbers=[]\n",
        "  for number in mylist:\n",
        "    if number % 2 == 0:\n",
        "      even_numbers.append(number)\n",
        "    else:\n",
        "      pass\n",
        "  else:\n",
        "    return f\"These are all the even numbers {even_numbers} in your list\""
      ],
      "metadata": {
        "id": "IWpGxOUXK8sG"
      },
      "execution_count": 120,
      "outputs": []
    },
    {
      "cell_type": "code",
      "source": [
        "check_all_even([1,2,3,4,5,6,7,8])"
      ],
      "metadata": {
        "id": "SMTOjinMMNaZ",
        "outputId": "9eace146-7c9f-4e70-868a-2e88262fb635",
        "colab": {
          "base_uri": "https://localhost:8080/",
          "height": 35
        }
      },
      "execution_count": 121,
      "outputs": [
        {
          "output_type": "execute_result",
          "data": {
            "text/plain": [
              "'These are all the even numbers [2, 4, 6, 8] in your list'"
            ],
            "application/vnd.google.colaboratory.intrinsic+json": {
              "type": "string"
            }
          },
          "metadata": {},
          "execution_count": 121
        }
      ]
    },
    {
      "cell_type": "code",
      "source": [
        "def check_even_odd_list (mylist):\n",
        "  even_numbers = []\n",
        "  odd_numbers = []\n",
        "  for number in mylist:\n",
        "    if number%2==0:\n",
        "      even_numbers.append(number)\n",
        "    else:\n",
        "      odd_numbers.append(number)\n",
        "  return f\"These are all your even numbers: {even_numbers}, and these are all your odd numbers: {odd_numbers}\"\n"
      ],
      "metadata": {
        "id": "138CN189NbiW"
      },
      "execution_count": 126,
      "outputs": []
    },
    {
      "cell_type": "code",
      "source": [
        "check_even_odd_list([1,3,4,44,53,22,4])"
      ],
      "metadata": {
        "id": "OH8WQRBYOD-k",
        "outputId": "d1ae04b7-6be9-41ec-e146-d9ff6df2cd6e",
        "colab": {
          "base_uri": "https://localhost:8080/",
          "height": 53
        }
      },
      "execution_count": 127,
      "outputs": [
        {
          "output_type": "execute_result",
          "data": {
            "text/plain": [
              "'These are all your even numbers: [4, 44, 22, 4], and these are all your odd numbers: [1, 3, 53]'"
            ],
            "application/vnd.google.colaboratory.intrinsic+json": {
              "type": "string"
            }
          },
          "metadata": {},
          "execution_count": 127
        }
      ]
    },
    {
      "cell_type": "code",
      "source": [
        "#como haria aqui para decir que si el num esta repetido que me lo pongan solo una vez"
      ],
      "metadata": {
        "id": "VH6UTBSKMgm7"
      },
      "execution_count": 122,
      "outputs": []
    },
    {
      "cell_type": "code",
      "source": [],
      "metadata": {
        "id": "dIyGpndWOHuR"
      },
      "execution_count": null,
      "outputs": []
    }
  ],
  "metadata": {
    "kernelspec": {
      "display_name": "Python 3",
      "language": "python",
      "name": "python3"
    },
    "language_info": {
      "codemirror_mode": {
        "name": "ipython",
        "version": 3
      },
      "file_extension": ".py",
      "mimetype": "text/x-python",
      "name": "python",
      "nbconvert_exporter": "python",
      "pygments_lexer": "ipython3",
      "version": "3.6.7"
    },
    "colab": {
      "provenance": []
    }
  },
  "nbformat": 4,
  "nbformat_minor": 0
}
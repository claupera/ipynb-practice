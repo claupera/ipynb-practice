{
  "cells": [
    {
      "cell_type": "markdown",
      "metadata": {
        "id": "-APdJajUKOED"
      },
      "source": [
        "<a href=\"https://www.hydroffice.org/epom/\"><img src=\"https://github.com/claupera/ipynb-practice/blob/main/images/000_000_epom_logo.png?raw=1\" alt=\"ePOM\" title=\"Open ePOM home page\" align=\"center\" width=\"12%\" alt=\"Python logo\\\"></a>"
      ]
    },
    {
      "cell_type": "markdown",
      "metadata": {
        "id": "WWnqjEtrKOEF"
      },
      "source": [
        "<a href=\"https://piazza.com/class/js5dnu0q39n6qe\"><img src=\"https://github.com/claupera/ipynb-practice/blob/main/images/help.png?raw=1\" alt=\"ePOM\" title=\"Ask questions on Piazza.com\" align=\"right\" width=\"10%\" alt=\"Piazza.com\\\"></a>\n",
        "# Title"
      ]
    },
    {
      "cell_type": "markdown",
      "metadata": {
        "id": "TIYbG4tUKOEG"
      },
      "source": [
        "<img align=\"left\" width=\"6%\" style=\"padding-right:10px;\" src=\"https://github.com/claupera/ipynb-practice/blob/main/images/key.png?raw=1\">\n",
        "\n",
        "A key concept."
      ]
    },
    {
      "cell_type": "markdown",
      "metadata": {
        "id": "3P2zrwMiKOEG"
      },
      "source": []
    },
    {
      "cell_type": "markdown",
      "metadata": {
        "solution2": "hidden",
        "solution2_first": true,
        "id": "dLMB6GprKOEG"
      },
      "source": [
        "<img align=\"left\" width=\"6%\" style=\"padding-right:10px;\" src=\"https://github.com/claupera/ipynb-practice/blob/main/images/test.png?raw=1\">\n",
        "\n",
        "Write code that ..."
      ]
    },
    {
      "cell_type": "code",
      "execution_count": null,
      "metadata": {
        "solution2": "hidden",
        "id": "KRYhGst7KOEG"
      },
      "outputs": [],
      "source": [
        "x = 0"
      ]
    },
    {
      "cell_type": "code",
      "execution_count": null,
      "metadata": {
        "id": "BwO_KUOYKOEH",
        "outputId": "622d48c5-d51a-4b6b-a926-a0fb5008cabf",
        "colab": {
          "base_uri": "https://localhost:8080/"
        }
      },
      "outputs": [
        {
          "output_type": "stream",
          "name": "stdout",
          "text": [
            "x value is 0\n",
            "x value is 1\n"
          ]
        }
      ],
      "source": [
        "x=0\n",
        "while x < 5:\n",
        "  if x ==2:\n",
        "    break\n",
        "  print(f\"x value is {x}\")\n",
        "  x+=1"
      ]
    },
    {
      "cell_type": "code",
      "source": [
        "mylist = [0,1,2,3]\n",
        "for number in mylist:\n",
        "  print (f\"my number is {number}\")"
      ],
      "metadata": {
        "id": "zt0rqPzlP6Xf",
        "outputId": "0d8c0f9e-864b-4e6e-c2b5-550618eaccef",
        "colab": {
          "base_uri": "https://localhost:8080/"
        }
      },
      "execution_count": null,
      "outputs": [
        {
          "output_type": "stream",
          "name": "stdout",
          "text": [
            "my number is 0\n",
            "my number is 1\n",
            "my number is 2\n",
            "my number is 3\n"
          ]
        }
      ]
    },
    {
      "cell_type": "code",
      "source": [
        "mylist = [0,1,2,3,4]\n",
        "for number in mylist:\n",
        "  if number == 3:\n",
        "    break\n",
        "  print (f\"my number is {number}\")"
      ],
      "metadata": {
        "id": "XG0LLy-OQM-Y",
        "outputId": "af68d2bb-8a61-4178-fc7d-b85d0fa22579",
        "colab": {
          "base_uri": "https://localhost:8080/"
        }
      },
      "execution_count": null,
      "outputs": [
        {
          "output_type": "stream",
          "name": "stdout",
          "text": [
            "my number is 0\n",
            "my number is 1\n",
            "my number is 2\n"
          ]
        }
      ]
    },
    {
      "cell_type": "code",
      "source": [
        "mylist = [0,1,2,3,4]\n",
        "for number in mylist:\n",
        "  if number == 3:\n",
        "    continue\n",
        "  print (f\"my number is {number}\")"
      ],
      "metadata": {
        "id": "XXLQfjiHQ6MR",
        "outputId": "e3712159-c94b-4c29-90dc-40817f876c7a",
        "colab": {
          "base_uri": "https://localhost:8080/"
        }
      },
      "execution_count": null,
      "outputs": [
        {
          "output_type": "stream",
          "name": "stdout",
          "text": [
            "my number is 0\n",
            "my number is 1\n",
            "my number is 2\n",
            "my number is 4\n"
          ]
        }
      ]
    },
    {
      "cell_type": "code",
      "source": [
        "mylist= [1,2,3]"
      ],
      "metadata": {
        "id": "26IJQdvoZsj3"
      },
      "execution_count": null,
      "outputs": []
    },
    {
      "cell_type": "code",
      "source": [
        "for num in range (10):\n",
        "  print (num)"
      ],
      "metadata": {
        "id": "I9xMHnjjZxsv",
        "outputId": "ba30cc8e-a9d0-4e43-b3d3-18d7e6bffd30",
        "colab": {
          "base_uri": "https://localhost:8080/"
        }
      },
      "execution_count": null,
      "outputs": [
        {
          "output_type": "stream",
          "name": "stdout",
          "text": [
            "0\n",
            "1\n",
            "2\n",
            "3\n",
            "4\n",
            "5\n",
            "6\n",
            "7\n",
            "8\n",
            "9\n"
          ]
        }
      ]
    },
    {
      "cell_type": "code",
      "source": [
        "for num in range (3,10):\n",
        "  print (num)"
      ],
      "metadata": {
        "id": "K9LaBLL-aBVC",
        "outputId": "95bed65b-760b-4cbc-fcae-9b5efa236742",
        "colab": {
          "base_uri": "https://localhost:8080/"
        }
      },
      "execution_count": null,
      "outputs": [
        {
          "output_type": "stream",
          "name": "stdout",
          "text": [
            "3\n",
            "4\n",
            "5\n",
            "6\n",
            "7\n",
            "8\n",
            "9\n"
          ]
        }
      ]
    },
    {
      "cell_type": "code",
      "source": [
        "for num in range (1,11):\n",
        "  if num%2 == 0:\n",
        "    print (num)\n",
        "  else:\n",
        "    print (f\"{num} is uneven\")"
      ],
      "metadata": {
        "id": "vM7VhWzBaRAc",
        "outputId": "73f25391-cdc0-43a0-a7c1-5091e240b732",
        "colab": {
          "base_uri": "https://localhost:8080/"
        }
      },
      "execution_count": null,
      "outputs": [
        {
          "output_type": "stream",
          "name": "stdout",
          "text": [
            "1 is uneven\n",
            "2\n",
            "3 is uneven\n",
            "4\n",
            "5 is uneven\n",
            "6\n",
            "7 is uneven\n",
            "8\n",
            "9 is uneven\n",
            "10\n"
          ]
        }
      ]
    },
    {
      "cell_type": "code",
      "source": [
        "for num in range (0,10,2):\n",
        "  print (num)"
      ],
      "metadata": {
        "id": "Tpsnc7JeaISL",
        "outputId": "e4fdf89c-e8e8-4c8e-883c-9ee7183d302a",
        "colab": {
          "base_uri": "https://localhost:8080/"
        }
      },
      "execution_count": null,
      "outputs": [
        {
          "output_type": "stream",
          "name": "stdout",
          "text": [
            "0\n",
            "2\n",
            "4\n",
            "6\n",
            "8\n"
          ]
        }
      ]
    },
    {
      "cell_type": "code",
      "source": [
        "range (0,11,2)"
      ],
      "metadata": {
        "id": "lIRY5LZFa0KH",
        "outputId": "87b289db-0639-4d60-a509-289cb253444b",
        "colab": {
          "base_uri": "https://localhost:8080/"
        }
      },
      "execution_count": null,
      "outputs": [
        {
          "output_type": "execute_result",
          "data": {
            "text/plain": [
              "range(0, 11, 2)"
            ]
          },
          "metadata": {},
          "execution_count": 32
        }
      ]
    },
    {
      "cell_type": "code",
      "source": [
        "list (range(0,11,2))"
      ],
      "metadata": {
        "id": "lnWqb4WOa6Y4",
        "outputId": "c0232c82-692f-47fe-9316-bbded4823957",
        "colab": {
          "base_uri": "https://localhost:8080/"
        }
      },
      "execution_count": null,
      "outputs": [
        {
          "output_type": "execute_result",
          "data": {
            "text/plain": [
              "[0, 2, 4, 6, 8, 10]"
            ]
          },
          "metadata": {},
          "execution_count": 33
        }
      ]
    },
    {
      "cell_type": "code",
      "source": [
        "mylist = list (range(0,15))"
      ],
      "metadata": {
        "id": "mOOeldQ0a_uJ"
      },
      "execution_count": null,
      "outputs": []
    },
    {
      "cell_type": "code",
      "source": [
        "print (mylist)"
      ],
      "metadata": {
        "id": "mXiAyYQFbG4L",
        "outputId": "6384e51d-09d9-47a6-a859-6d45354bee24",
        "colab": {
          "base_uri": "https://localhost:8080/"
        }
      },
      "execution_count": null,
      "outputs": [
        {
          "output_type": "stream",
          "name": "stdout",
          "text": [
            "[0, 1, 2, 3, 4, 5, 6, 7, 8, 9, 10, 11, 12, 13, 14]\n"
          ]
        }
      ]
    },
    {
      "cell_type": "code",
      "source": [
        "index_count =0"
      ],
      "metadata": {
        "id": "dY_e8VdAbIKz"
      },
      "execution_count": null,
      "outputs": []
    },
    {
      "cell_type": "code",
      "source": [
        "for letter in \"abcde\":\n",
        "  print (f\"At index {index_count} the letter is {letter}\")\n",
        "  index_count +=1"
      ],
      "metadata": {
        "id": "7YEmNnbIbOoD",
        "outputId": "4cec0c92-bcab-49ba-be56-77b02966a5a4",
        "colab": {
          "base_uri": "https://localhost:8080/"
        }
      },
      "execution_count": null,
      "outputs": [
        {
          "output_type": "stream",
          "name": "stdout",
          "text": [
            "At index 0 the letter is a\n",
            "At index 1 the letter is b\n",
            "At index 2 the letter is c\n",
            "At index 3 the letter is d\n",
            "At index 4 the letter is e\n"
          ]
        }
      ]
    },
    {
      "cell_type": "code",
      "source": [
        "index_count = 0\n",
        "word = \"abcde\"\n",
        "for letter in word:\n",
        "  print (word[index_count])\n",
        "  index_count +=1"
      ],
      "metadata": {
        "id": "IAwiK4vPbZcd",
        "outputId": "d757647b-0b36-4953-ffe0-fe976de8e68c",
        "colab": {
          "base_uri": "https://localhost:8080/"
        }
      },
      "execution_count": null,
      "outputs": [
        {
          "output_type": "stream",
          "name": "stdout",
          "text": [
            "a\n",
            "b\n",
            "c\n",
            "d\n",
            "e\n"
          ]
        }
      ]
    },
    {
      "cell_type": "code",
      "source": [
        "index_count = 0\n",
        "range (0,21)"
      ],
      "metadata": {
        "id": "ECDYMRXBb4C6",
        "outputId": "99312bc9-7ca0-4bf8-ec31-1a38fc5f0600",
        "colab": {
          "base_uri": "https://localhost:8080/"
        }
      },
      "execution_count": null,
      "outputs": [
        {
          "output_type": "execute_result",
          "data": {
            "text/plain": [
              "range(0, 21)"
            ]
          },
          "metadata": {},
          "execution_count": 42
        }
      ]
    },
    {
      "cell_type": "code",
      "source": [
        "mylist = (range (0,21))"
      ],
      "metadata": {
        "id": "eynSNIs5dSFe"
      },
      "execution_count": null,
      "outputs": []
    },
    {
      "cell_type": "code",
      "source": [
        "index_count = 0\n",
        "for num in mylist:\n",
        "  print (num[index_count])\n",
        "  index_count+=1\n"
      ],
      "metadata": {
        "id": "HuyZgfVedV_u",
        "outputId": "344f0297-aba2-4ba0-ca7e-7aa33f5edf90",
        "colab": {
          "base_uri": "https://localhost:8080/",
          "height": 211
        }
      },
      "execution_count": null,
      "outputs": [
        {
          "output_type": "error",
          "ename": "TypeError",
          "evalue": "'int' object is not subscriptable",
          "traceback": [
            "\u001b[0;31m---------------------------------------------------------------------------\u001b[0m",
            "\u001b[0;31mTypeError\u001b[0m                                 Traceback (most recent call last)",
            "\u001b[0;32m<ipython-input-46-8cc823202714>\u001b[0m in \u001b[0;36m<cell line: 2>\u001b[0;34m()\u001b[0m\n\u001b[1;32m      1\u001b[0m \u001b[0mindex_count\u001b[0m \u001b[0;34m=\u001b[0m \u001b[0;36m0\u001b[0m\u001b[0;34m\u001b[0m\u001b[0;34m\u001b[0m\u001b[0m\n\u001b[1;32m      2\u001b[0m \u001b[0;32mfor\u001b[0m \u001b[0mnum\u001b[0m \u001b[0;32min\u001b[0m \u001b[0mmylist\u001b[0m\u001b[0;34m:\u001b[0m\u001b[0;34m\u001b[0m\u001b[0;34m\u001b[0m\u001b[0m\n\u001b[0;32m----> 3\u001b[0;31m   \u001b[0mprint\u001b[0m \u001b[0;34m(\u001b[0m\u001b[0mnum\u001b[0m\u001b[0;34m[\u001b[0m\u001b[0mindex_count\u001b[0m\u001b[0;34m]\u001b[0m\u001b[0;34m)\u001b[0m\u001b[0;34m\u001b[0m\u001b[0;34m\u001b[0m\u001b[0m\n\u001b[0m\u001b[1;32m      4\u001b[0m   \u001b[0mindex_count\u001b[0m\u001b[0;34m+=\u001b[0m\u001b[0;36m1\u001b[0m\u001b[0;34m\u001b[0m\u001b[0;34m\u001b[0m\u001b[0m\n\u001b[1;32m      5\u001b[0m \u001b[0;34m\u001b[0m\u001b[0m\n",
            "\u001b[0;31mTypeError\u001b[0m: 'int' object is not subscriptable"
          ]
        }
      ]
    },
    {
      "cell_type": "code",
      "source": [
        "index_count = 0\n",
        "for letter in \"hello peter\":\n",
        "  print (letter)\n",
        "  index_count +=2"
      ],
      "metadata": {
        "id": "K7cBhK4jdhon",
        "outputId": "5cb64764-3276-425f-b86d-3990d3328756",
        "colab": {
          "base_uri": "https://localhost:8080/"
        }
      },
      "execution_count": null,
      "outputs": [
        {
          "output_type": "stream",
          "name": "stdout",
          "text": [
            "h\n",
            "e\n",
            "l\n",
            "l\n",
            "o\n",
            " \n",
            "p\n",
            "e\n",
            "t\n",
            "e\n",
            "r\n"
          ]
        }
      ]
    },
    {
      "cell_type": "code",
      "source": [
        "word = \"abcde\"\n",
        "for item in word:\n",
        "  print (item)"
      ],
      "metadata": {
        "id": "JSm782ZLdwJa",
        "outputId": "3bdf9cf6-42eb-4ae9-93d2-ea959a1a4ebe",
        "colab": {
          "base_uri": "https://localhost:8080/"
        }
      },
      "execution_count": null,
      "outputs": [
        {
          "output_type": "stream",
          "name": "stdout",
          "text": [
            "a\n",
            "b\n",
            "c\n",
            "d\n",
            "e\n"
          ]
        }
      ]
    },
    {
      "cell_type": "code",
      "source": [
        "word = \"abcde\"\n",
        "for item in enumerate (word):\n",
        "  print (item)"
      ],
      "metadata": {
        "id": "mb1ANP61emDS",
        "outputId": "e542bf9f-8d06-4229-b536-f46e95fc1af7",
        "colab": {
          "base_uri": "https://localhost:8080/"
        }
      },
      "execution_count": null,
      "outputs": [
        {
          "output_type": "stream",
          "name": "stdout",
          "text": [
            "(0, 'a')\n",
            "(1, 'b')\n",
            "(2, 'c')\n",
            "(3, 'd')\n",
            "(4, 'e')\n"
          ]
        }
      ]
    },
    {
      "cell_type": "code",
      "source": [
        "word = \"abcde\"\n",
        "for index,letter in enumerate (word):\n",
        "  print (index)\n",
        "  print (letter)\n",
        "  print (\"\\n\")"
      ],
      "metadata": {
        "id": "44g3QR3Oesay",
        "outputId": "a4276cce-d056-42c3-ec35-c2fe1844fe9e",
        "colab": {
          "base_uri": "https://localhost:8080/"
        }
      },
      "execution_count": null,
      "outputs": [
        {
          "output_type": "stream",
          "name": "stdout",
          "text": [
            "0\n",
            "a\n",
            "\n",
            "\n",
            "1\n",
            "b\n",
            "\n",
            "\n",
            "2\n",
            "c\n",
            "\n",
            "\n",
            "3\n",
            "d\n",
            "\n",
            "\n",
            "4\n",
            "e\n",
            "\n",
            "\n"
          ]
        }
      ]
    },
    {
      "cell_type": "code",
      "source": [
        "mylist1 = [1,2,3]\n",
        "mylist2 = [\"a\",\"b\",\"c\"]\n",
        "mylist3 = [100,200,300]"
      ],
      "metadata": {
        "id": "txuf6YvdfA8U"
      },
      "execution_count": null,
      "outputs": []
    },
    {
      "cell_type": "code",
      "source": [
        "zip (mylist1,mylist2)"
      ],
      "metadata": {
        "id": "uU9fOWhFfjC9",
        "outputId": "5c42c643-ef1b-4517-f83c-206172c6f501",
        "colab": {
          "base_uri": "https://localhost:8080/"
        }
      },
      "execution_count": null,
      "outputs": [
        {
          "output_type": "execute_result",
          "data": {
            "text/plain": [
              "<zip at 0x7e62be6ccd00>"
            ]
          },
          "metadata": {},
          "execution_count": 61
        }
      ]
    },
    {
      "cell_type": "code",
      "source": [
        "for item in zip(mylist1,mylist2):\n",
        "  print (item)"
      ],
      "metadata": {
        "id": "IbIrt8HCflmF",
        "outputId": "cc90443f-6348-49dc-9b9b-199105e240e8",
        "colab": {
          "base_uri": "https://localhost:8080/"
        }
      },
      "execution_count": null,
      "outputs": [
        {
          "output_type": "stream",
          "name": "stdout",
          "text": [
            "(1, 'a')\n",
            "(2, 'b')\n",
            "(3, 'c')\n"
          ]
        }
      ]
    },
    {
      "cell_type": "code",
      "source": [
        "list (zip(mylist1,mylist2))"
      ],
      "metadata": {
        "id": "Q7wvk6TAfr10",
        "outputId": "8d31deff-8219-48ba-83a8-ab19c3cc878e",
        "colab": {
          "base_uri": "https://localhost:8080/"
        }
      },
      "execution_count": null,
      "outputs": [
        {
          "output_type": "execute_result",
          "data": {
            "text/plain": [
              "[(1, 'a'), (2, 'b'), (3, 'c')]"
            ]
          },
          "metadata": {},
          "execution_count": 74
        }
      ]
    },
    {
      "cell_type": "code",
      "source": [
        "list (zip(mylist1,mylist2,mylist3))"
      ],
      "metadata": {
        "id": "STF4PkTxgHr9",
        "outputId": "9ebe5a3d-0262-4f6a-8b5c-b47ab42e72d5",
        "colab": {
          "base_uri": "https://localhost:8080/"
        }
      },
      "execution_count": null,
      "outputs": [
        {
          "output_type": "execute_result",
          "data": {
            "text/plain": [
              "[(1, 'a', 100), (2, 'b', 200), (3, 'c', 300)]"
            ]
          },
          "metadata": {},
          "execution_count": 75
        }
      ]
    },
    {
      "cell_type": "code",
      "source": [
        "for num1, letter, num2 in (zip(mylist1,mylist2,mylist3)):\n",
        "  print (num1,letter,num2)"
      ],
      "metadata": {
        "id": "zUkuWop3gL_Y",
        "outputId": "499e09d1-d3f9-4409-da2a-b24fac96e8bb",
        "colab": {
          "base_uri": "https://localhost:8080/"
        }
      },
      "execution_count": null,
      "outputs": [
        {
          "output_type": "stream",
          "name": "stdout",
          "text": [
            "1 a 100\n",
            "2 b 200\n",
            "3 c 300\n"
          ]
        }
      ]
    },
    {
      "cell_type": "code",
      "source": [
        "for num1, letter, num2 in (zip(mylist1,mylist2,mylist3)):\n",
        "  print (letter)"
      ],
      "metadata": {
        "id": "0C1G7r1Qgf3f",
        "outputId": "7a2590a4-2453-4ee5-aafc-c7d162b82448",
        "colab": {
          "base_uri": "https://localhost:8080/"
        }
      },
      "execution_count": null,
      "outputs": [
        {
          "output_type": "stream",
          "name": "stdout",
          "text": [
            "a\n",
            "b\n",
            "c\n"
          ]
        }
      ]
    },
    {
      "cell_type": "code",
      "source": [
        "\"x\" in [1,2,3]"
      ],
      "metadata": {
        "id": "YbUIL3dXgqGJ",
        "outputId": "d6632b5c-09d1-4739-fe0c-341cfddff384",
        "colab": {
          "base_uri": "https://localhost:8080/"
        }
      },
      "execution_count": null,
      "outputs": [
        {
          "output_type": "execute_result",
          "data": {
            "text/plain": [
              "False"
            ]
          },
          "metadata": {},
          "execution_count": 80
        }
      ]
    },
    {
      "cell_type": "code",
      "source": [
        "\"l\" in \"claudia\""
      ],
      "metadata": {
        "id": "SJmYntVEqHxD",
        "outputId": "45a79cee-57cc-49c0-d6c7-b18f18199dfe",
        "colab": {
          "base_uri": "https://localhost:8080/"
        }
      },
      "execution_count": null,
      "outputs": [
        {
          "output_type": "execute_result",
          "data": {
            "text/plain": [
              "True"
            ]
          },
          "metadata": {},
          "execution_count": 81
        }
      ]
    },
    {
      "cell_type": "code",
      "source": [
        "\"p\" in \"claudia\""
      ],
      "metadata": {
        "id": "rOTDV2enqTc-",
        "outputId": "167f519f-a274-4218-91f0-e35c2ab68e3c",
        "colab": {
          "base_uri": "https://localhost:8080/"
        }
      },
      "execution_count": null,
      "outputs": [
        {
          "output_type": "execute_result",
          "data": {
            "text/plain": [
              "False"
            ]
          },
          "metadata": {},
          "execution_count": 82
        }
      ]
    },
    {
      "cell_type": "code",
      "source": [
        "\"mykey\" in {\"mykey\":345}"
      ],
      "metadata": {
        "id": "8VYKjtzEqWNW",
        "outputId": "13db4b0a-46d4-44d4-ac10-5c637e690e8c",
        "colab": {
          "base_uri": "https://localhost:8080/"
        }
      },
      "execution_count": null,
      "outputs": [
        {
          "output_type": "execute_result",
          "data": {
            "text/plain": [
              "True"
            ]
          },
          "metadata": {},
          "execution_count": 83
        }
      ]
    },
    {
      "cell_type": "code",
      "source": [
        "345 in {\"mykey\":345}"
      ],
      "metadata": {
        "id": "0IdIyJR5qa53",
        "outputId": "f060f447-1408-4c8d-9781-6c07ecb47d79",
        "colab": {
          "base_uri": "https://localhost:8080/"
        }
      },
      "execution_count": null,
      "outputs": [
        {
          "output_type": "execute_result",
          "data": {
            "text/plain": [
              "False"
            ]
          },
          "metadata": {},
          "execution_count": 85
        }
      ]
    },
    {
      "cell_type": "code",
      "source": [
        "345 in {\"mykey\":345}.items()"
      ],
      "metadata": {
        "id": "tn_YaQXDqdf3",
        "outputId": "a22c9f27-652b-40c2-a5ba-3819c216d60f",
        "colab": {
          "base_uri": "https://localhost:8080/"
        }
      },
      "execution_count": null,
      "outputs": [
        {
          "output_type": "execute_result",
          "data": {
            "text/plain": [
              "False"
            ]
          },
          "metadata": {},
          "execution_count": 87
        }
      ]
    },
    {
      "cell_type": "code",
      "source": [
        "mydict ={\"mykey\":345}"
      ],
      "metadata": {
        "id": "0jDw2h_XqgD_"
      },
      "execution_count": null,
      "outputs": []
    },
    {
      "cell_type": "code",
      "source": [
        "print (mydict)"
      ],
      "metadata": {
        "id": "I9CWw7Pcqm2X",
        "outputId": "e36fd0fe-3e07-4f9e-8df2-a2467167d775",
        "colab": {
          "base_uri": "https://localhost:8080/"
        }
      },
      "execution_count": null,
      "outputs": [
        {
          "output_type": "stream",
          "name": "stdout",
          "text": [
            "{'mykey': 345}\n"
          ]
        }
      ]
    },
    {
      "cell_type": "code",
      "source": [
        "345 in mydict"
      ],
      "metadata": {
        "id": "d96kz1joqokR",
        "outputId": "359c5c14-dca1-4130-e8bc-1ace21658721",
        "colab": {
          "base_uri": "https://localhost:8080/"
        }
      },
      "execution_count": null,
      "outputs": [
        {
          "output_type": "execute_result",
          "data": {
            "text/plain": [
              "False"
            ]
          },
          "metadata": {},
          "execution_count": 90
        }
      ]
    },
    {
      "cell_type": "code",
      "source": [
        "\"mykey\" in mydict"
      ],
      "metadata": {
        "id": "rbzF_XI_qrA4",
        "outputId": "8eb2fc9e-359f-4992-8149-c2e0d7c18fe3",
        "colab": {
          "base_uri": "https://localhost:8080/"
        }
      },
      "execution_count": null,
      "outputs": [
        {
          "output_type": "execute_result",
          "data": {
            "text/plain": [
              "True"
            ]
          },
          "metadata": {},
          "execution_count": 91
        }
      ]
    },
    {
      "cell_type": "code",
      "source": [
        "345 in mydict.items()"
      ],
      "metadata": {
        "id": "S_eLEmLOqsvw",
        "outputId": "be1b304c-e288-48a6-99e3-7ed9ea69b7b9",
        "colab": {
          "base_uri": "https://localhost:8080/"
        }
      },
      "execution_count": null,
      "outputs": [
        {
          "output_type": "execute_result",
          "data": {
            "text/plain": [
              "False"
            ]
          },
          "metadata": {},
          "execution_count": 92
        }
      ]
    },
    {
      "cell_type": "code",
      "source": [
        "345 in mydict.values()"
      ],
      "metadata": {
        "id": "jKyC4LNDqvKx",
        "outputId": "4c96f668-aae1-4e59-beac-842a391fd503",
        "colab": {
          "base_uri": "https://localhost:8080/"
        }
      },
      "execution_count": null,
      "outputs": [
        {
          "output_type": "execute_result",
          "data": {
            "text/plain": [
              "True"
            ]
          },
          "metadata": {},
          "execution_count": 93
        }
      ]
    },
    {
      "cell_type": "code",
      "source": [
        "for key, value in mydict.items():\n",
        "  print (key,value)"
      ],
      "metadata": {
        "id": "4GvSsFIdq2c6",
        "outputId": "e0141440-79b7-41d1-92f2-7d12d17abff8",
        "colab": {
          "base_uri": "https://localhost:8080/"
        }
      },
      "execution_count": null,
      "outputs": [
        {
          "output_type": "stream",
          "name": "stdout",
          "text": [
            "mykey 345\n"
          ]
        }
      ]
    },
    {
      "cell_type": "code",
      "source": [
        "list (mydict.items())"
      ],
      "metadata": {
        "id": "dg2rgYWsq546",
        "outputId": "66c4eaa7-e2b5-4d16-a5d5-08577b94d707",
        "colab": {
          "base_uri": "https://localhost:8080/"
        }
      },
      "execution_count": null,
      "outputs": [
        {
          "output_type": "execute_result",
          "data": {
            "text/plain": [
              "[('mykey', 345)]"
            ]
          },
          "metadata": {},
          "execution_count": 100
        }
      ]
    },
    {
      "cell_type": "code",
      "source": [
        "mylist = [10,20,30,40,100]"
      ],
      "metadata": {
        "id": "KmAIL56lrM6t"
      },
      "execution_count": null,
      "outputs": []
    },
    {
      "cell_type": "code",
      "source": [
        "min (mylist)"
      ],
      "metadata": {
        "id": "qhJ7AO90rkSw",
        "outputId": "b9d2df7f-e4d5-4cda-bdca-72cf27d272bd",
        "colab": {
          "base_uri": "https://localhost:8080/"
        }
      },
      "execution_count": null,
      "outputs": [
        {
          "output_type": "execute_result",
          "data": {
            "text/plain": [
              "10"
            ]
          },
          "metadata": {},
          "execution_count": 102
        }
      ]
    },
    {
      "cell_type": "code",
      "source": [
        "max (mylist)"
      ],
      "metadata": {
        "id": "jpuzmWtIrlWA",
        "outputId": "8f87ad54-b2f0-4d25-daf0-9d8906792b8b",
        "colab": {
          "base_uri": "https://localhost:8080/"
        }
      },
      "execution_count": null,
      "outputs": [
        {
          "output_type": "execute_result",
          "data": {
            "text/plain": [
              "100"
            ]
          },
          "metadata": {},
          "execution_count": 103
        }
      ]
    },
    {
      "cell_type": "code",
      "source": [],
      "metadata": {
        "id": "QTlgKrITrmXw"
      },
      "execution_count": null,
      "outputs": []
    }
  ],
  "metadata": {
    "kernelspec": {
      "display_name": "Python 3",
      "language": "python",
      "name": "python3"
    },
    "language_info": {
      "codemirror_mode": {
        "name": "ipython",
        "version": 3
      },
      "file_extension": ".py",
      "mimetype": "text/x-python",
      "name": "python",
      "nbconvert_exporter": "python",
      "pygments_lexer": "ipython3",
      "version": "3.6.7"
    },
    "colab": {
      "provenance": []
    }
  },
  "nbformat": 4,
  "nbformat_minor": 0
}